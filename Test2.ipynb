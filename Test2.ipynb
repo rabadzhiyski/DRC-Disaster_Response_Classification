{
 "cells": [
  {
   "cell_type": "code",
   "execution_count": 3,
   "id": "standing-basket",
   "metadata": {},
   "outputs": [
    {
     "name": "stderr",
     "output_type": "stream",
     "text": [
      "[nltk_data] Downloading package punkt to /home/freemo/nltk_data...\n",
      "[nltk_data]   Package punkt is already up-to-date!\n",
      "[nltk_data] Downloading package wordnet to /home/freemo/nltk_data...\n",
      "[nltk_data]   Package wordnet is already up-to-date!\n",
      "[nltk_data] Downloading package stopwords to /home/freemo/nltk_data...\n",
      "[nltk_data]   Package stopwords is already up-to-date!\n"
     ]
    }
   ],
   "source": [
    "\n",
    "\n",
    "# import libraries\n",
    "import re\n",
    "%matplotlib inline\n",
    "import matplotlib.pyplot as plt\n",
    "import nltk\n",
    "nltk.download(['punkt', 'wordnet', 'stopwords'])\n",
    "from nltk.corpus import stopwords\n",
    "from nltk.tokenize import word_tokenize\n",
    "from nltk.stem import WordNetLemmatizer\n",
    "import numpy as np\n",
    "import pandas as pd\n",
    "import pickle\n",
    "from sklearn.ensemble import RandomForestClassifier,AdaBoostClassifier\n",
    "from sklearn.feature_extraction.text import CountVectorizer, TfidfTransformer\n",
    "from sklearn.metrics import classification_report, accuracy_score, precision_score, recall_score, f1_score\n",
    "from sklearn.model_selection import train_test_split, GridSearchCV\n",
    "from sklearn.multioutput import MultiOutputClassifier\n",
    "from sklearn.pipeline import Pipeline\n",
    "from sklearn.tree import DecisionTreeClassifier\n",
    "from sqlalchemy import create_engine\n",
    "\n"
   ]
  },
  {
   "cell_type": "code",
   "execution_count": 4,
   "id": "muslim-telescope",
   "metadata": {},
   "outputs": [],
   "source": [
    "# load data from database\n",
    "engine = create_engine('sqlite:///DisasterResponse.db')\n",
    "\n",
    "# load data\n",
    "engine = create_engine('sqlite:///DisasterResponse.db')\n",
    "df = pd.read_sql(\"Disaster_Data\", engine)\n",
    "categories = df.columns[4:]\n",
    "\n",
    "X = df[['message']].values[:, 0]\n",
    "y = df[categories].values"
   ]
  },
  {
   "cell_type": "code",
   "execution_count": 5,
   "id": "owned-glory",
   "metadata": {},
   "outputs": [],
   "source": [
    "url_regex = 'http[s]?://(?:[a-zA-Z]|[0-9]|[$-_@.&+]|[!*\\(\\),]|(?:%[0-9a-fA-F][0-9a-fA-F]))+'\n",
    "\n",
    "def tokenize(text, lemmatizer=WordNetLemmatizer()):\n",
    "    # Detecte URLs\n",
    "    detected_urls = re.findall(url_regex, text)\n",
    "    for url in detected_urls:\n",
    "        text = text.replace(url, 'urlplaceholder')\n",
    "    \n",
    "    # Normalize and tokenize\n",
    "    tokens = nltk.word_tokenize(re.sub(r\"[^a-zA-Z0-9]\", \" \", text.lower()))\n",
    "    \n",
    "    # Remove stopwords\n",
    "    tokens = [t for t in tokens if t not in stopwords.words('english')]\n",
    "\n",
    "    # Lemmatize\n",
    "    tokens = [lemmatizer.lemmatize(t) for t in tokens]\n",
    "    \n",
    "    return tokens"
   ]
  },
  {
   "cell_type": "code",
   "execution_count": 8,
   "id": "general-biodiversity",
   "metadata": {},
   "outputs": [],
   "source": [
    "\n",
    "\n",
    "pipeline = Pipeline([\n",
    "    ('vect', CountVectorizer(tokenizer=tokenize)),\n",
    "    ('tfidf', TfidfTransformer()),\n",
    "    ('clf', MultiOutputClassifier(RandomForestClassifier(class_weight='balanced')))\n",
    "])\n",
    "\n"
   ]
  },
  {
   "cell_type": "code",
   "execution_count": 9,
   "id": "needed-antarctica",
   "metadata": {},
   "outputs": [],
   "source": [
    "X_train, X_test, y_train, y_test = train_test_split(X, y)"
   ]
  },
  {
   "cell_type": "code",
   "execution_count": 10,
   "id": "adjusted-flesh",
   "metadata": {},
   "outputs": [
    {
     "data": {
      "text/plain": [
       "Pipeline(steps=[('vect',\n",
       "                 CountVectorizer(tokenizer=<function tokenize at 0x7fdb48cf9200>)),\n",
       "                ('tfidf', TfidfTransformer()),\n",
       "                ('clf',\n",
       "                 MultiOutputClassifier(estimator=RandomForestClassifier(class_weight='balanced')))])"
      ]
     },
     "execution_count": 10,
     "metadata": {},
     "output_type": "execute_result"
    }
   ],
   "source": [
    "pipeline.fit(X_train, y_train)"
   ]
  },
  {
   "cell_type": "code",
   "execution_count": 11,
   "id": "decent-martial",
   "metadata": {},
   "outputs": [],
   "source": [
    "\n",
    "\n",
    "def multioutput_classification_report(y_true, y_pred):\n",
    "    for i in range(0, len(categories)):\n",
    "        print(categories[i])\n",
    "        print(\"\\tAccuracy: {:.4f}\\t\\t% Precision: {:.4f}\\t\\t% Recall: {:.4f}\\t\\t% F1_score: {:.4f}\".format(\n",
    "            accuracy_score(y_true[:, i], y_pred[:, i]),\n",
    "            precision_score(y_true[:, i], y_pred[:, i], average='weighted'),\n",
    "            recall_score(y_true[:, i], y_pred[:, i], average='weighted'),\n",
    "            f1_score(y_true[:, i], y_pred[:, i], average='weighted')\n",
    "        ))\n",
    "        #print(classification_report(y_true[:, i], y_pred[:, i]))\n",
    "        #print(\"--------------------------------------------------\")\n",
    "\n"
   ]
  },
  {
   "cell_type": "code",
   "execution_count": 12,
   "id": "clinical-decade",
   "metadata": {},
   "outputs": [],
   "source": [
    "y_pred = pipeline.predict(X_train)"
   ]
  },
  {
   "cell_type": "code",
   "execution_count": 13,
   "id": "gothic-platinum",
   "metadata": {},
   "outputs": [
    {
     "name": "stdout",
     "output_type": "stream",
     "text": [
      "related\n",
      "\tAccuracy: 0.9983\t\t% Precision: 0.9983\t\t% Recall: 0.9983\t\t% F1_score: 0.9983\n",
      "request\n",
      "\tAccuracy: 0.9986\t\t% Precision: 0.9986\t\t% Recall: 0.9986\t\t% F1_score: 0.9986\n",
      "offer\n",
      "\tAccuracy: 0.9997\t\t% Precision: 0.9998\t\t% Recall: 0.9997\t\t% F1_score: 0.9997\n",
      "aid_related\n",
      "\tAccuracy: 0.9987\t\t% Precision: 0.9987\t\t% Recall: 0.9987\t\t% F1_score: 0.9987\n",
      "medical_help\n",
      "\tAccuracy: 0.9994\t\t% Precision: 0.9994\t\t% Recall: 0.9994\t\t% F1_score: 0.9994\n",
      "medical_products\n",
      "\tAccuracy: 0.9996\t\t% Precision: 0.9996\t\t% Recall: 0.9996\t\t% F1_score: 0.9996\n",
      "search_and_rescue\n",
      "\tAccuracy: 0.9997\t\t% Precision: 0.9997\t\t% Recall: 0.9997\t\t% F1_score: 0.9997\n",
      "security\n",
      "\tAccuracy: 0.9997\t\t% Precision: 0.9997\t\t% Recall: 0.9997\t\t% F1_score: 0.9997\n",
      "military\n",
      "\tAccuracy: 0.9996\t\t% Precision: 0.9996\t\t% Recall: 0.9996\t\t% F1_score: 0.9996\n",
      "child_alone\n",
      "\tAccuracy: 1.0000\t\t% Precision: 1.0000\t\t% Recall: 1.0000\t\t% F1_score: 1.0000\n",
      "water\n",
      "\tAccuracy: 1.0000\t\t% Precision: 1.0000\t\t% Recall: 1.0000\t\t% F1_score: 1.0000\n",
      "food\n",
      "\tAccuracy: 0.9999\t\t% Precision: 0.9999\t\t% Recall: 0.9999\t\t% F1_score: 0.9999\n",
      "shelter\n",
      "\tAccuracy: 0.9998\t\t% Precision: 0.9998\t\t% Recall: 0.9998\t\t% F1_score: 0.9998\n",
      "clothing\n",
      "\tAccuracy: 0.9999\t\t% Precision: 0.9999\t\t% Recall: 0.9999\t\t% F1_score: 0.9999\n",
      "money\n",
      "\tAccuracy: 0.9999\t\t% Precision: 0.9999\t\t% Recall: 0.9999\t\t% F1_score: 0.9999\n",
      "missing_people\n",
      "\tAccuracy: 0.9999\t\t% Precision: 0.9999\t\t% Recall: 0.9999\t\t% F1_score: 0.9999\n",
      "refugees\n",
      "\tAccuracy: 0.9998\t\t% Precision: 0.9998\t\t% Recall: 0.9998\t\t% F1_score: 0.9998\n",
      "death\n",
      "\tAccuracy: 0.9997\t\t% Precision: 0.9997\t\t% Recall: 0.9997\t\t% F1_score: 0.9997\n",
      "other_aid\n",
      "\tAccuracy: 0.9989\t\t% Precision: 0.9989\t\t% Recall: 0.9989\t\t% F1_score: 0.9989\n",
      "infrastructure_related\n",
      "\tAccuracy: 0.9993\t\t% Precision: 0.9993\t\t% Recall: 0.9993\t\t% F1_score: 0.9993\n",
      "transport\n",
      "\tAccuracy: 0.9995\t\t% Precision: 0.9995\t\t% Recall: 0.9995\t\t% F1_score: 0.9995\n",
      "buildings\n",
      "\tAccuracy: 0.9998\t\t% Precision: 0.9998\t\t% Recall: 0.9998\t\t% F1_score: 0.9998\n",
      "electricity\n",
      "\tAccuracy: 1.0000\t\t% Precision: 1.0000\t\t% Recall: 1.0000\t\t% F1_score: 1.0000\n",
      "tools\n",
      "\tAccuracy: 0.9999\t\t% Precision: 0.9999\t\t% Recall: 0.9999\t\t% F1_score: 0.9999\n",
      "hospitals\n",
      "\tAccuracy: 0.9999\t\t% Precision: 0.9999\t\t% Recall: 0.9999\t\t% F1_score: 0.9999\n",
      "shops\n",
      "\tAccuracy: 0.9999\t\t% Precision: 0.9999\t\t% Recall: 0.9999\t\t% F1_score: 0.9999\n",
      "aid_centers\n",
      "\tAccuracy: 0.9997\t\t% Precision: 0.9997\t\t% Recall: 0.9997\t\t% F1_score: 0.9997\n",
      "other_infrastructure\n",
      "\tAccuracy: 0.9997\t\t% Precision: 0.9997\t\t% Recall: 0.9997\t\t% F1_score: 0.9997\n",
      "weather_related\n",
      "\tAccuracy: 0.9994\t\t% Precision: 0.9994\t\t% Recall: 0.9994\t\t% F1_score: 0.9994\n",
      "floods\n",
      "\tAccuracy: 0.9996\t\t% Precision: 0.9996\t\t% Recall: 0.9996\t\t% F1_score: 0.9996\n",
      "storm\n",
      "\tAccuracy: 0.9997\t\t% Precision: 0.9997\t\t% Recall: 0.9997\t\t% F1_score: 0.9997\n",
      "fire\n",
      "\tAccuracy: 1.0000\t\t% Precision: 1.0000\t\t% Recall: 1.0000\t\t% F1_score: 1.0000\n",
      "earthquake\n",
      "\tAccuracy: 0.9996\t\t% Precision: 0.9996\t\t% Recall: 0.9996\t\t% F1_score: 0.9996\n",
      "cold\n",
      "\tAccuracy: 0.9996\t\t% Precision: 0.9996\t\t% Recall: 0.9996\t\t% F1_score: 0.9996\n",
      "other_weather\n",
      "\tAccuracy: 0.9997\t\t% Precision: 0.9997\t\t% Recall: 0.9997\t\t% F1_score: 0.9997\n",
      "direct_report\n",
      "\tAccuracy: 0.9988\t\t% Precision: 0.9988\t\t% Recall: 0.9988\t\t% F1_score: 0.9988\n"
     ]
    }
   ],
   "source": [
    "multioutput_classification_report(y_train, y_pred)"
   ]
  },
  {
   "cell_type": "code",
   "execution_count": 14,
   "id": "decimal-economics",
   "metadata": {},
   "outputs": [],
   "source": [
    "parameters = {\n",
    "    'clf__estimator__n_estimators': [20, 50]\n",
    "}\n",
    "\n",
    "cv = GridSearchCV(estimator=pipeline, param_grid=parameters, cv=3, scoring='f1_weighted', verbose=3)"
   ]
  },
  {
   "cell_type": "code",
   "execution_count": null,
   "id": "arabic-latter",
   "metadata": {},
   "outputs": [],
   "source": []
  }
 ],
 "metadata": {
  "kernelspec": {
   "display_name": "Python 3",
   "language": "python",
   "name": "python3"
  },
  "language_info": {
   "codemirror_mode": {
    "name": "ipython",
    "version": 3
   },
   "file_extension": ".py",
   "mimetype": "text/x-python",
   "name": "python",
   "nbconvert_exporter": "python",
   "pygments_lexer": "ipython3",
   "version": "3.7.9"
  }
 },
 "nbformat": 4,
 "nbformat_minor": 5
}
