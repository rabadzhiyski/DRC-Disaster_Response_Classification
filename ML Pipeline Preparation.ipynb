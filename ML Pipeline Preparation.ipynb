{
 "cells": [
  {
   "cell_type": "markdown",
   "metadata": {},
   "source": [
    "# ML Pipeline Preparation\n",
    "Follow the instructions below to help you create your ML pipeline.\n",
    "### 1. Import libraries and load data from database.\n",
    "- Import Python libraries\n",
    "- Load dataset from database with [`read_sql_table`](https://pandas.pydata.org/pandas-docs/stable/generated/pandas.read_sql_table.html)\n",
    "- Define feature and target variables X and Y"
   ]
  },
  {
   "cell_type": "code",
   "execution_count": 1,
   "metadata": {},
   "outputs": [
    {
     "name": "stderr",
     "output_type": "stream",
     "text": [
      "[nltk_data] Downloading package punkt to /home/freemo/nltk_data...\n",
      "[nltk_data]   Package punkt is already up-to-date!\n",
      "[nltk_data] Downloading package wordnet to /home/freemo/nltk_data...\n",
      "[nltk_data]   Package wordnet is already up-to-date!\n"
     ]
    }
   ],
   "source": [
    "# import libraries\n",
    "import re\n",
    "import numpy as np\n",
    "import pandas as pd\n",
    "from sqlalchemy import create_engine\n",
    "from nltk.tokenize import word_tokenize\n",
    "from nltk.stem import WordNetLemmatizer\n",
    "import nltk\n",
    "nltk.download(['punkt', 'wordnet'])\n",
    "\n",
    "from sklearn.model_selection import GridSearchCV\n",
    "from sklearn.ensemble import RandomForestClassifier\n",
    "from sklearn.model_selection import train_test_split\n",
    "from sklearn.pipeline import Pipeline, FeatureUnion\n",
    "from sklearn.base import BaseEstimator, TransformerMixin\n",
    "from sklearn.feature_extraction.text import CountVectorizer, TfidfTransformer, TfidfVectorizer\n",
    "from sklearn.datasets import make_multilabel_classification\n",
    "from sklearn.multioutput import MultiOutputClassifier\n",
    "from sklearn.neighbors import KNeighborsClassifier\n",
    "from sklearn.metrics import make_scorer, accuracy_score, f1_score, fbeta_score, classification_report, confusion_matrix"
   ]
  },
  {
   "cell_type": "code",
   "execution_count": 2,
   "metadata": {},
   "outputs": [],
   "source": [
    "# load data\n",
    "engine = create_engine('sqlite:///DisasterResponse.db')\n",
    "df = pd.read_sql(\"Disaster_Data\", engine)\n",
    "X = df['message']\n",
    "#drop also \"related\" column as there were records with 3 choices\n",
    "y = df.drop(['id', 'message', 'original', 'genre', 'related'], axis = 1)\n",
    "categories = y.columns"
   ]
  },
  {
   "cell_type": "code",
   "execution_count": 3,
   "metadata": {},
   "outputs": [
    {
     "data": {
      "text/plain": [
       "Index(['request', 'offer', 'aid_related', 'medical_help', 'medical_products',\n",
       "       'search_and_rescue', 'security', 'military', 'child_alone', 'water',\n",
       "       'food', 'shelter', 'clothing', 'money', 'missing_people', 'refugees',\n",
       "       'death', 'other_aid', 'infrastructure_related', 'transport',\n",
       "       'buildings', 'electricity', 'tools', 'hospitals', 'shops',\n",
       "       'aid_centers', 'other_infrastructure', 'weather_related', 'floods',\n",
       "       'storm', 'fire', 'earthquake', 'cold', 'other_weather',\n",
       "       'direct_report'],\n",
       "      dtype='object')"
      ]
     },
     "execution_count": 3,
     "metadata": {},
     "output_type": "execute_result"
    }
   ],
   "source": [
    "categories"
   ]
  },
  {
   "cell_type": "code",
   "execution_count": 4,
   "metadata": {},
   "outputs": [],
   "source": [
    "# check df\n",
    "df.to_csv(\"df.csv\", index=True)"
   ]
  },
  {
   "cell_type": "code",
   "execution_count": 5,
   "metadata": {},
   "outputs": [
    {
     "data": {
      "text/plain": [
       "(26216, 35)"
      ]
     },
     "execution_count": 5,
     "metadata": {},
     "output_type": "execute_result"
    }
   ],
   "source": [
    "# check the shape\n",
    "X.shape\n",
    "y.shape"
   ]
  },
  {
   "cell_type": "markdown",
   "metadata": {},
   "source": [
    "Check randomly the two arrays"
   ]
  },
  {
   "cell_type": "markdown",
   "metadata": {},
   "source": [
    "### 2. Write a tokenization function to process your text data"
   ]
  },
  {
   "cell_type": "code",
   "execution_count": 6,
   "metadata": {},
   "outputs": [],
   "source": [
    "def tokenize(text):\n",
    "    \"\"\"Tokenize and clean text.\n",
    "    \n",
    "    Args: message text\n",
    "    \n",
    "    Returns: normalized tokens\n",
    "    \"\"\"\n",
    "    # remove punctuation\n",
    "    text = re.sub(r'[^a-zA-Z0-9]', ' ',text)\n",
    "    \n",
    "    # tokenize text\n",
    "    tokens = word_tokenize(text)\n",
    "    \n",
    "    # initiate lemmatizer\n",
    "    lemmatizer = WordNetLemmatizer()\n",
    "    \n",
    "    # iterate through each token\n",
    "    clean_tokens = []\n",
    "    for tok in tokens:\n",
    "        \n",
    "        # lemmatize, normalize case, and remove leading/trailing white space\n",
    "        clean_tok = lemmatizer.lemmatize(tok).lower().strip()\n",
    "        clean_tokens.append(clean_tok)\n",
    "        \n",
    "    return clean_tokens"
   ]
  },
  {
   "cell_type": "code",
   "execution_count": 7,
   "metadata": {},
   "outputs": [
    {
     "name": "stdout",
     "output_type": "stream",
     "text": [
      "Weather update - a cold front from Cuba that could pass over Haiti\n",
      "['weather', 'update', 'a', 'cold', 'front', 'from', 'cuba', 'that', 'could', 'pas', 'over', 'haiti'] \n",
      "\n",
      "Is the Hurricane over or is it not over\n",
      "['is', 'the', 'hurricane', 'over', 'or', 'is', 'it', 'not', 'over'] \n",
      "\n",
      "Looking for someone but no name\n",
      "['looking', 'for', 'someone', 'but', 'no', 'name'] \n",
      "\n",
      "UN reports Leogane 80-90 destroyed. Only Hospital St. Croix functioning. Needs supplies desperately.\n",
      "['un', 'report', 'leogane', '80', '90', 'destroyed', 'only', 'hospital', 'st', 'croix', 'functioning', 'needs', 'supply', 'desperately'] \n",
      "\n",
      "says: west side of Haiti, rest of the country today and tonight\n",
      "['say', 'west', 'side', 'of', 'haiti', 'rest', 'of', 'the', 'country', 'today', 'and', 'tonight'] \n",
      "\n"
     ]
    }
   ],
   "source": [
    "# test function\n",
    "for message in X[:5]:\n",
    "    tokens = tokenize(message)\n",
    "    print(message)\n",
    "    print(tokens, '\\n')"
   ]
  },
  {
   "cell_type": "markdown",
   "metadata": {},
   "source": [
    "### 3. Build a machine learning pipeline\n",
    "This machine pipeline should take in the `message` column as input and output classification results on the other 36 categories in the dataset. You may find the [MultiOutputClassifier](http://scikit-learn.org/stable/modules/generated/sklearn.multioutput.MultiOutputClassifier.html) helpful for predicting multiple target variables."
   ]
  },
  {
   "cell_type": "markdown",
   "metadata": {},
   "source": [
    "https://www.analyticsvidhya.com/blog/2015/06/tuning-random-forest-model/"
   ]
  },
  {
   "cell_type": "code",
   "execution_count": 39,
   "metadata": {},
   "outputs": [],
   "source": [
    "%timeit"
   ]
  },
  {
   "cell_type": "code",
   "execution_count": 27,
   "metadata": {},
   "outputs": [],
   "source": [
    "pipeline = Pipeline([\n",
    "    ('vect', CountVectorizer(tokenizer = tokenize)),\n",
    "    ('tfidf', TfidfTransformer()),\n",
    "    ('clf', MultiOutputClassifier(RandomForestClassifier(random_state=0, n_jobs=-1, class_weight=\"balanced\")))\n",
    "])"
   ]
  },
  {
   "cell_type": "markdown",
   "metadata": {},
   "source": [
    "### 4. Train pipeline\n",
    "- Split data into train and test sets\n",
    "- Train pipeline"
   ]
  },
  {
   "cell_type": "code",
   "execution_count": 28,
   "metadata": {},
   "outputs": [],
   "source": [
    "# split the data\n",
    "# X_train, X_test, y_train, y_test = train_test_split(X, y)\n",
    "X_train, X_test, y_train, y_test = train_test_split(X, y)"
   ]
  },
  {
   "cell_type": "code",
   "execution_count": 29,
   "metadata": {},
   "outputs": [
    {
     "data": {
      "text/plain": [
       "Pipeline(steps=[('vect',\n",
       "                 CountVectorizer(tokenizer=<function tokenize at 0x7f96da474a70>)),\n",
       "                ('tfidf', TfidfTransformer()),\n",
       "                ('clf',\n",
       "                 MultiOutputClassifier(estimator=RandomForestClassifier(class_weight='balanced',\n",
       "                                                                        n_jobs=-1,\n",
       "                                                                        random_state=0)))])"
      ]
     },
     "execution_count": 29,
     "metadata": {},
     "output_type": "execute_result"
    }
   ],
   "source": [
    "# train classifier, around 8 mins to complete / it took just 3mins with the new settings\n",
    "pipeline.fit(X_train, y_train)"
   ]
  },
  {
   "cell_type": "markdown",
   "metadata": {},
   "source": [
    "### 5. Test your model\n",
    "Report the f1 score, precision and recall for each output category of the dataset. You can do this by iterating through the columns and calling sklearn's `classification_report` on each."
   ]
  },
  {
   "cell_type": "code",
   "execution_count": 30,
   "metadata": {},
   "outputs": [],
   "source": [
    "# predict on test data\n",
    "y_pred = pipeline.predict(X_test)"
   ]
  },
  {
   "cell_type": "code",
   "execution_count": 31,
   "metadata": {},
   "outputs": [
    {
     "name": "stdout",
     "output_type": "stream",
     "text": [
      "------------------------------------------------------\n",
      "\n",
      "FEATURE: request\n",
      "\n",
      "              precision    recall  f1-score   support\n",
      "\n",
      "           0       0.90      0.98      0.94      5459\n",
      "           1       0.85      0.47      0.61      1095\n",
      "\n",
      "    accuracy                           0.90      6554\n",
      "   macro avg       0.88      0.73      0.77      6554\n",
      "weighted avg       0.89      0.90      0.89      6554\n",
      "\n",
      "------------------------------------------------------\n",
      "\n",
      "FEATURE: offer\n",
      "\n",
      "              precision    recall  f1-score   support\n",
      "\n",
      "           0       1.00      1.00      1.00      6524\n",
      "           1       0.00      0.00      0.00        30\n",
      "\n",
      "    accuracy                           1.00      6554\n",
      "   macro avg       0.50      0.50      0.50      6554\n",
      "weighted avg       0.99      1.00      0.99      6554\n",
      "\n",
      "------------------------------------------------------\n",
      "\n",
      "FEATURE: aid_related\n",
      "\n",
      "              precision    recall  f1-score   support\n",
      "\n",
      "           0       0.77      0.87      0.82      3829\n",
      "           1       0.78      0.64      0.70      2725\n",
      "\n",
      "    accuracy                           0.77      6554\n",
      "   macro avg       0.78      0.76      0.76      6554\n",
      "weighted avg       0.78      0.77      0.77      6554\n",
      "\n",
      "------------------------------------------------------\n",
      "\n",
      "FEATURE: medical_help\n",
      "\n",
      "              precision    recall  f1-score   support\n",
      "\n",
      "           0       0.92      1.00      0.96      6037\n",
      "           1       0.71      0.04      0.07       517\n",
      "\n",
      "    accuracy                           0.92      6554\n",
      "   macro avg       0.82      0.52      0.52      6554\n",
      "weighted avg       0.91      0.92      0.89      6554\n",
      "\n",
      "------------------------------------------------------\n",
      "\n",
      "FEATURE: medical_products\n",
      "\n",
      "              precision    recall  f1-score   support\n",
      "\n",
      "           0       0.95      1.00      0.97      6215\n",
      "           1       0.86      0.05      0.10       339\n",
      "\n",
      "    accuracy                           0.95      6554\n",
      "   macro avg       0.90      0.53      0.54      6554\n",
      "weighted avg       0.95      0.95      0.93      6554\n",
      "\n",
      "------------------------------------------------------\n",
      "\n",
      "FEATURE: search_and_rescue\n",
      "\n",
      "              precision    recall  f1-score   support\n",
      "\n",
      "           0       0.97      1.00      0.99      6368\n",
      "           1       0.50      0.01      0.01       186\n",
      "\n",
      "    accuracy                           0.97      6554\n",
      "   macro avg       0.74      0.50      0.50      6554\n",
      "weighted avg       0.96      0.97      0.96      6554\n",
      "\n",
      "------------------------------------------------------\n",
      "\n",
      "FEATURE: security\n",
      "\n",
      "              precision    recall  f1-score   support\n",
      "\n",
      "           0       0.98      1.00      0.99      6413\n",
      "           1       0.00      0.00      0.00       141\n",
      "\n",
      "    accuracy                           0.98      6554\n",
      "   macro avg       0.49      0.50      0.49      6554\n",
      "weighted avg       0.96      0.98      0.97      6554\n",
      "\n",
      "------------------------------------------------------\n",
      "\n",
      "FEATURE: military\n",
      "\n",
      "              precision    recall  f1-score   support\n",
      "\n",
      "           0       0.97      1.00      0.98      6346\n",
      "           1       0.00      0.00      0.00       208\n",
      "\n",
      "    accuracy                           0.97      6554\n",
      "   macro avg       0.48      0.50      0.49      6554\n",
      "weighted avg       0.94      0.97      0.95      6554\n",
      "\n",
      "------------------------------------------------------\n",
      "\n",
      "FEATURE: child_alone\n",
      "\n",
      "              precision    recall  f1-score   support\n",
      "\n",
      "           0       1.00      1.00      1.00      6554\n",
      "\n",
      "    accuracy                           1.00      6554\n",
      "   macro avg       1.00      1.00      1.00      6554\n",
      "weighted avg       1.00      1.00      1.00      6554\n",
      "\n",
      "------------------------------------------------------\n",
      "\n",
      "FEATURE: water\n",
      "\n",
      "              precision    recall  f1-score   support\n",
      "\n",
      "           0       0.95      1.00      0.97      6141\n",
      "           1       0.92      0.17      0.29       413\n",
      "\n",
      "    accuracy                           0.95      6554\n",
      "   macro avg       0.93      0.58      0.63      6554\n",
      "weighted avg       0.95      0.95      0.93      6554\n",
      "\n",
      "------------------------------------------------------\n",
      "\n",
      "FEATURE: food\n",
      "\n",
      "              precision    recall  f1-score   support\n",
      "\n",
      "           0       0.92      1.00      0.96      5829\n",
      "           1       0.90      0.31      0.46       725\n",
      "\n",
      "    accuracy                           0.92      6554\n",
      "   macro avg       0.91      0.65      0.71      6554\n",
      "weighted avg       0.92      0.92      0.90      6554\n",
      "\n",
      "------------------------------------------------------\n",
      "\n",
      "FEATURE: shelter\n",
      "\n",
      "              precision    recall  f1-score   support\n",
      "\n",
      "           0       0.92      1.00      0.96      5955\n",
      "           1       0.88      0.16      0.27       599\n",
      "\n",
      "    accuracy                           0.92      6554\n",
      "   macro avg       0.90      0.58      0.61      6554\n",
      "weighted avg       0.92      0.92      0.90      6554\n",
      "\n",
      "------------------------------------------------------\n",
      "\n",
      "FEATURE: clothing\n",
      "\n",
      "              precision    recall  f1-score   support\n",
      "\n",
      "           0       0.99      1.00      0.99      6451\n",
      "           1       0.56      0.05      0.09       103\n",
      "\n",
      "    accuracy                           0.98      6554\n",
      "   macro avg       0.77      0.52      0.54      6554\n",
      "weighted avg       0.98      0.98      0.98      6554\n",
      "\n",
      "------------------------------------------------------\n",
      "\n",
      "FEATURE: money\n",
      "\n",
      "              precision    recall  f1-score   support\n",
      "\n",
      "           0       0.98      1.00      0.99      6411\n",
      "           1       0.75      0.02      0.04       143\n",
      "\n",
      "    accuracy                           0.98      6554\n",
      "   macro avg       0.86      0.51      0.51      6554\n",
      "weighted avg       0.97      0.98      0.97      6554\n",
      "\n",
      "------------------------------------------------------\n",
      "\n",
      "FEATURE: missing_people\n",
      "\n",
      "              precision    recall  f1-score   support\n",
      "\n",
      "           0       0.99      1.00      0.99      6471\n",
      "           1       0.00      0.00      0.00        83\n",
      "\n",
      "    accuracy                           0.99      6554\n",
      "   macro avg       0.49      0.50      0.50      6554\n",
      "weighted avg       0.97      0.99      0.98      6554\n",
      "\n",
      "------------------------------------------------------\n",
      "\n",
      "FEATURE: refugees\n",
      "\n",
      "              precision    recall  f1-score   support\n",
      "\n",
      "           0       0.96      1.00      0.98      6324\n",
      "           1       0.00      0.00      0.00       230\n",
      "\n",
      "    accuracy                           0.96      6554\n",
      "   macro avg       0.48      0.50      0.49      6554\n",
      "weighted avg       0.93      0.96      0.95      6554\n",
      "\n",
      "------------------------------------------------------\n",
      "\n",
      "FEATURE: death\n",
      "\n",
      "              precision    recall  f1-score   support\n",
      "\n",
      "           0       0.96      1.00      0.98      6259\n",
      "           1       1.00      0.04      0.07       295\n",
      "\n",
      "    accuracy                           0.96      6554\n",
      "   macro avg       0.98      0.52      0.52      6554\n",
      "weighted avg       0.96      0.96      0.94      6554\n",
      "\n",
      "------------------------------------------------------\n",
      "\n",
      "FEATURE: other_aid\n",
      "\n",
      "              precision    recall  f1-score   support\n",
      "\n",
      "           0       0.87      1.00      0.93      5713\n",
      "           1       0.53      0.01      0.02       841\n",
      "\n",
      "    accuracy                           0.87      6554\n",
      "   macro avg       0.70      0.51      0.48      6554\n",
      "weighted avg       0.83      0.87      0.81      6554\n",
      "\n",
      "------------------------------------------------------\n",
      "\n",
      "FEATURE: infrastructure_related\n",
      "\n",
      "              precision    recall  f1-score   support\n",
      "\n",
      "           0       0.93      1.00      0.96      6104\n",
      "           1       0.40      0.00      0.01       450\n",
      "\n",
      "    accuracy                           0.93      6554\n",
      "   macro avg       0.67      0.50      0.49      6554\n",
      "weighted avg       0.90      0.93      0.90      6554\n",
      "\n",
      "------------------------------------------------------\n",
      "\n",
      "FEATURE: transport\n",
      "\n",
      "              precision    recall  f1-score   support\n",
      "\n",
      "           0       0.96      1.00      0.98      6259\n",
      "           1       0.67      0.01      0.01       295\n",
      "\n",
      "    accuracy                           0.96      6554\n",
      "   macro avg       0.81      0.50      0.50      6554\n",
      "weighted avg       0.94      0.96      0.93      6554\n",
      "\n",
      "------------------------------------------------------\n",
      "\n",
      "FEATURE: buildings\n",
      "\n",
      "              precision    recall  f1-score   support\n",
      "\n",
      "           0       0.95      1.00      0.98      6232\n",
      "           1       0.83      0.03      0.06       322\n",
      "\n",
      "    accuracy                           0.95      6554\n",
      "   macro avg       0.89      0.52      0.52      6554\n",
      "weighted avg       0.95      0.95      0.93      6554\n",
      "\n",
      "------------------------------------------------------\n",
      "\n",
      "FEATURE: electricity\n",
      "\n",
      "              precision    recall  f1-score   support\n",
      "\n",
      "           0       0.98      1.00      0.99      6419\n",
      "           1       1.00      0.02      0.04       135\n",
      "\n",
      "    accuracy                           0.98      6554\n",
      "   macro avg       0.99      0.51      0.52      6554\n",
      "weighted avg       0.98      0.98      0.97      6554\n",
      "\n",
      "------------------------------------------------------\n",
      "\n",
      "FEATURE: tools\n",
      "\n",
      "              precision    recall  f1-score   support\n",
      "\n",
      "           0       0.99      1.00      1.00      6516\n",
      "           1       0.00      0.00      0.00        38\n",
      "\n",
      "    accuracy                           0.99      6554\n",
      "   macro avg       0.50      0.50      0.50      6554\n",
      "weighted avg       0.99      0.99      0.99      6554\n",
      "\n",
      "------------------------------------------------------\n",
      "\n",
      "FEATURE: hospitals\n",
      "\n",
      "              precision    recall  f1-score   support\n",
      "\n",
      "           0       0.99      1.00      0.99      6479\n",
      "           1       0.00      0.00      0.00        75\n",
      "\n",
      "    accuracy                           0.99      6554\n",
      "   macro avg       0.49      0.50      0.50      6554\n",
      "weighted avg       0.98      0.99      0.98      6554\n",
      "\n",
      "------------------------------------------------------\n",
      "\n",
      "FEATURE: shops\n",
      "\n",
      "              precision    recall  f1-score   support\n",
      "\n",
      "           0       0.99      1.00      1.00      6515\n",
      "           1       0.00      0.00      0.00        39\n",
      "\n",
      "    accuracy                           0.99      6554\n",
      "   macro avg       0.50      0.50      0.50      6554\n",
      "weighted avg       0.99      0.99      0.99      6554\n",
      "\n",
      "------------------------------------------------------\n",
      "\n",
      "FEATURE: aid_centers\n",
      "\n",
      "              precision    recall  f1-score   support\n",
      "\n",
      "           0       0.99      1.00      0.99      6472\n",
      "           1       0.00      0.00      0.00        82\n",
      "\n",
      "    accuracy                           0.99      6554\n",
      "   macro avg       0.49      0.50      0.50      6554\n",
      "weighted avg       0.98      0.99      0.98      6554\n",
      "\n",
      "------------------------------------------------------\n",
      "\n",
      "FEATURE: other_infrastructure\n",
      "\n",
      "              precision    recall  f1-score   support\n",
      "\n",
      "           0       0.95      1.00      0.98      6253\n",
      "           1       0.25      0.00      0.01       301\n",
      "\n",
      "    accuracy                           0.95      6554\n",
      "   macro avg       0.60      0.50      0.49      6554\n",
      "weighted avg       0.92      0.95      0.93      6554\n",
      "\n",
      "------------------------------------------------------\n",
      "\n",
      "FEATURE: weather_related\n",
      "\n",
      "              precision    recall  f1-score   support\n",
      "\n",
      "           0       0.86      0.96      0.91      4702\n",
      "           1       0.86      0.61      0.71      1852\n",
      "\n",
      "    accuracy                           0.86      6554\n",
      "   macro avg       0.86      0.78      0.81      6554\n",
      "weighted avg       0.86      0.86      0.85      6554\n",
      "\n",
      "------------------------------------------------------\n",
      "\n",
      "FEATURE: floods\n",
      "\n",
      "              precision    recall  f1-score   support\n",
      "\n",
      "           0       0.93      1.00      0.96      6001\n",
      "           1       0.88      0.12      0.22       553\n",
      "\n",
      "    accuracy                           0.92      6554\n",
      "   macro avg       0.90      0.56      0.59      6554\n",
      "weighted avg       0.92      0.92      0.90      6554\n",
      "\n",
      "------------------------------------------------------\n",
      "\n",
      "FEATURE: storm\n",
      "\n"
     ]
    },
    {
     "name": "stderr",
     "output_type": "stream",
     "text": [
      "/home/freemo/anaconda3/lib/python3.7/site-packages/sklearn/metrics/_classification.py:1221: UndefinedMetricWarning: Precision and F-score are ill-defined and being set to 0.0 in labels with no predicted samples. Use `zero_division` parameter to control this behavior.\n",
      "  _warn_prf(average, modifier, msg_start, len(result))\n"
     ]
    },
    {
     "name": "stdout",
     "output_type": "stream",
     "text": [
      "              precision    recall  f1-score   support\n",
      "\n",
      "           0       0.93      0.99      0.96      5932\n",
      "           1       0.77      0.25      0.37       622\n",
      "\n",
      "    accuracy                           0.92      6554\n",
      "   macro avg       0.85      0.62      0.67      6554\n",
      "weighted avg       0.91      0.92      0.90      6554\n",
      "\n",
      "------------------------------------------------------\n",
      "\n",
      "FEATURE: fire\n",
      "\n",
      "              precision    recall  f1-score   support\n",
      "\n",
      "           0       0.99      1.00      1.00      6489\n",
      "           1       0.00      0.00      0.00        65\n",
      "\n",
      "    accuracy                           0.99      6554\n",
      "   macro avg       0.50      0.50      0.50      6554\n",
      "weighted avg       0.98      0.99      0.99      6554\n",
      "\n",
      "------------------------------------------------------\n",
      "\n",
      "FEATURE: earthquake\n",
      "\n",
      "              precision    recall  f1-score   support\n",
      "\n",
      "           0       0.95      1.00      0.97      5943\n",
      "           1       0.92      0.50      0.65       611\n",
      "\n",
      "    accuracy                           0.95      6554\n",
      "   macro avg       0.94      0.75      0.81      6554\n",
      "weighted avg       0.95      0.95      0.94      6554\n",
      "\n",
      "------------------------------------------------------\n",
      "\n",
      "FEATURE: cold\n",
      "\n",
      "              precision    recall  f1-score   support\n",
      "\n",
      "           0       0.98      1.00      0.99      6420\n",
      "           1       0.50      0.01      0.01       134\n",
      "\n",
      "    accuracy                           0.98      6554\n",
      "   macro avg       0.74      0.50      0.50      6554\n",
      "weighted avg       0.97      0.98      0.97      6554\n",
      "\n",
      "------------------------------------------------------\n",
      "\n",
      "FEATURE: other_weather\n",
      "\n",
      "              precision    recall  f1-score   support\n",
      "\n",
      "           0       0.94      1.00      0.97      6185\n",
      "           1       0.00      0.00      0.00       369\n",
      "\n",
      "    accuracy                           0.94      6554\n",
      "   macro avg       0.47      0.50      0.49      6554\n",
      "weighted avg       0.89      0.94      0.92      6554\n",
      "\n",
      "------------------------------------------------------\n",
      "\n",
      "FEATURE: direct_report\n",
      "\n",
      "              precision    recall  f1-score   support\n",
      "\n",
      "           0       0.87      0.98      0.92      5305\n",
      "           1       0.84      0.39      0.53      1249\n",
      "\n",
      "    accuracy                           0.87      6554\n",
      "   macro avg       0.86      0.68      0.73      6554\n",
      "weighted avg       0.87      0.87      0.85      6554\n",
      "\n"
     ]
    }
   ],
   "source": [
    "y_pred_pd = pd.DataFrame(y_pred, columns = y_test.columns)\n",
    "for column in y_test.columns:\n",
    "    print('------------------------------------------------------\\n')\n",
    "    print('FEATURE: {}\\n'.format(column))\n",
    "    print(classification_report(y_test[column],y_pred_pd[column]))"
   ]
  },
  {
   "cell_type": "code",
   "execution_count": 32,
   "metadata": {},
   "outputs": [
    {
     "name": "stdout",
     "output_type": "stream",
     "text": [
      "                        precision    recall  f1-score   support\n",
      "\n",
      "               request       0.85      0.47      0.61      1095\n",
      "                 offer       0.00      0.00      0.00        30\n",
      "           aid_related       0.78      0.64      0.70      2725\n",
      "          medical_help       0.71      0.04      0.07       517\n",
      "      medical_products       0.86      0.05      0.10       339\n",
      "     search_and_rescue       0.50      0.01      0.01       186\n",
      "              security       0.00      0.00      0.00       141\n",
      "              military       0.00      0.00      0.00       208\n",
      "           child_alone       0.00      0.00      0.00         0\n",
      "                 water       0.92      0.17      0.29       413\n",
      "                  food       0.90      0.31      0.46       725\n",
      "               shelter       0.88      0.16      0.27       599\n",
      "              clothing       0.56      0.05      0.09       103\n",
      "                 money       0.75      0.02      0.04       143\n",
      "        missing_people       0.00      0.00      0.00        83\n",
      "              refugees       0.00      0.00      0.00       230\n",
      "                 death       1.00      0.04      0.07       295\n",
      "             other_aid       0.53      0.01      0.02       841\n",
      "infrastructure_related       0.40      0.00      0.01       450\n",
      "             transport       0.67      0.01      0.01       295\n",
      "             buildings       0.83      0.03      0.06       322\n",
      "           electricity       1.00      0.02      0.04       135\n",
      "                 tools       0.00      0.00      0.00        38\n",
      "             hospitals       0.00      0.00      0.00        75\n",
      "                 shops       0.00      0.00      0.00        39\n",
      "           aid_centers       0.00      0.00      0.00        82\n",
      "  other_infrastructure       0.25      0.00      0.01       301\n",
      "       weather_related       0.86      0.61      0.71      1852\n",
      "                floods       0.88      0.12      0.22       553\n",
      "                 storm       0.77      0.25      0.37       622\n",
      "                  fire       0.00      0.00      0.00        65\n",
      "            earthquake       0.92      0.50      0.65       611\n",
      "                  cold       0.50      0.01      0.01       134\n",
      "         other_weather       0.00      0.00      0.00       369\n",
      "         direct_report       0.84      0.39      0.53      1249\n",
      "\n",
      "             micro avg       0.83      0.31      0.45     15865\n",
      "             macro avg       0.49      0.11      0.15     15865\n",
      "          weighted avg       0.72      0.31      0.38     15865\n",
      "           samples avg       0.39      0.19      0.23     15865\n",
      "\n"
     ]
    },
    {
     "name": "stderr",
     "output_type": "stream",
     "text": [
      "/home/freemo/anaconda3/lib/python3.7/site-packages/sklearn/metrics/_classification.py:1221: UndefinedMetricWarning: Recall and F-score are ill-defined and being set to 0.0 in labels with no true samples. Use `zero_division` parameter to control this behavior.\n",
      "  _warn_prf(average, modifier, msg_start, len(result))\n",
      "/home/freemo/anaconda3/lib/python3.7/site-packages/sklearn/metrics/_classification.py:1221: UndefinedMetricWarning: Precision and F-score are ill-defined and being set to 0.0 in samples with no predicted labels. Use `zero_division` parameter to control this behavior.\n",
      "  _warn_prf(average, modifier, msg_start, len(result))\n",
      "/home/freemo/anaconda3/lib/python3.7/site-packages/sklearn/metrics/_classification.py:1221: UndefinedMetricWarning: Recall and F-score are ill-defined and being set to 0.0 in samples with no true labels. Use `zero_division` parameter to control this behavior.\n",
      "  _warn_prf(average, modifier, msg_start, len(result))\n"
     ]
    }
   ],
   "source": [
    "# display results\n",
    "\n",
    "# Print classification report on test data\n",
    "print(classification_report(y_test, y_pred, target_names=y.columns))"
   ]
  },
  {
   "cell_type": "markdown",
   "metadata": {},
   "source": [
    "### 6. Improve your model\n",
    "Use grid search to find better parameters. "
   ]
  },
  {
   "cell_type": "code",
   "execution_count": 33,
   "metadata": {},
   "outputs": [
    {
     "data": {
      "text/plain": [
       "dict_keys(['memory', 'steps', 'verbose', 'vect', 'tfidf', 'clf', 'vect__analyzer', 'vect__binary', 'vect__decode_error', 'vect__dtype', 'vect__encoding', 'vect__input', 'vect__lowercase', 'vect__max_df', 'vect__max_features', 'vect__min_df', 'vect__ngram_range', 'vect__preprocessor', 'vect__stop_words', 'vect__strip_accents', 'vect__token_pattern', 'vect__tokenizer', 'vect__vocabulary', 'tfidf__norm', 'tfidf__smooth_idf', 'tfidf__sublinear_tf', 'tfidf__use_idf', 'clf__estimator__bootstrap', 'clf__estimator__ccp_alpha', 'clf__estimator__class_weight', 'clf__estimator__criterion', 'clf__estimator__max_depth', 'clf__estimator__max_features', 'clf__estimator__max_leaf_nodes', 'clf__estimator__max_samples', 'clf__estimator__min_impurity_decrease', 'clf__estimator__min_impurity_split', 'clf__estimator__min_samples_leaf', 'clf__estimator__min_samples_split', 'clf__estimator__min_weight_fraction_leaf', 'clf__estimator__n_estimators', 'clf__estimator__n_jobs', 'clf__estimator__oob_score', 'clf__estimator__random_state', 'clf__estimator__verbose', 'clf__estimator__warm_start', 'clf__estimator', 'clf__n_jobs'])"
      ]
     },
     "execution_count": 33,
     "metadata": {},
     "output_type": "execute_result"
    }
   ],
   "source": [
    "pipeline.get_params().keys()"
   ]
  },
  {
   "cell_type": "code",
   "execution_count": 34,
   "metadata": {
    "scrolled": true
   },
   "outputs": [
    {
     "data": {
      "text/plain": [
       "{'memory': None,\n",
       " 'steps': [('vect',\n",
       "   CountVectorizer(tokenizer=<function tokenize at 0x7f96da474a70>)),\n",
       "  ('tfidf', TfidfTransformer()),\n",
       "  ('clf',\n",
       "   MultiOutputClassifier(estimator=RandomForestClassifier(class_weight='balanced',\n",
       "                                                          n_jobs=-1,\n",
       "                                                          random_state=0)))],\n",
       " 'verbose': False,\n",
       " 'vect': CountVectorizer(tokenizer=<function tokenize at 0x7f96da474a70>),\n",
       " 'tfidf': TfidfTransformer(),\n",
       " 'clf': MultiOutputClassifier(estimator=RandomForestClassifier(class_weight='balanced',\n",
       "                                                        n_jobs=-1,\n",
       "                                                        random_state=0)),\n",
       " 'vect__analyzer': 'word',\n",
       " 'vect__binary': False,\n",
       " 'vect__decode_error': 'strict',\n",
       " 'vect__dtype': numpy.int64,\n",
       " 'vect__encoding': 'utf-8',\n",
       " 'vect__input': 'content',\n",
       " 'vect__lowercase': True,\n",
       " 'vect__max_df': 1.0,\n",
       " 'vect__max_features': None,\n",
       " 'vect__min_df': 1,\n",
       " 'vect__ngram_range': (1, 1),\n",
       " 'vect__preprocessor': None,\n",
       " 'vect__stop_words': None,\n",
       " 'vect__strip_accents': None,\n",
       " 'vect__token_pattern': '(?u)\\\\b\\\\w\\\\w+\\\\b',\n",
       " 'vect__tokenizer': <function __main__.tokenize(text)>,\n",
       " 'vect__vocabulary': None,\n",
       " 'tfidf__norm': 'l2',\n",
       " 'tfidf__smooth_idf': True,\n",
       " 'tfidf__sublinear_tf': False,\n",
       " 'tfidf__use_idf': True,\n",
       " 'clf__estimator__bootstrap': True,\n",
       " 'clf__estimator__ccp_alpha': 0.0,\n",
       " 'clf__estimator__class_weight': 'balanced',\n",
       " 'clf__estimator__criterion': 'gini',\n",
       " 'clf__estimator__max_depth': None,\n",
       " 'clf__estimator__max_features': 'auto',\n",
       " 'clf__estimator__max_leaf_nodes': None,\n",
       " 'clf__estimator__max_samples': None,\n",
       " 'clf__estimator__min_impurity_decrease': 0.0,\n",
       " 'clf__estimator__min_impurity_split': None,\n",
       " 'clf__estimator__min_samples_leaf': 1,\n",
       " 'clf__estimator__min_samples_split': 2,\n",
       " 'clf__estimator__min_weight_fraction_leaf': 0.0,\n",
       " 'clf__estimator__n_estimators': 100,\n",
       " 'clf__estimator__n_jobs': -1,\n",
       " 'clf__estimator__oob_score': False,\n",
       " 'clf__estimator__random_state': 0,\n",
       " 'clf__estimator__verbose': 0,\n",
       " 'clf__estimator__warm_start': False,\n",
       " 'clf__estimator': RandomForestClassifier(class_weight='balanced', n_jobs=-1, random_state=0),\n",
       " 'clf__n_jobs': None}"
      ]
     },
     "execution_count": 34,
     "metadata": {},
     "output_type": "execute_result"
    }
   ],
   "source": [
    "# check all features\n",
    "pipeline.get_params()"
   ]
  },
  {
   "cell_type": "markdown",
   "metadata": {},
   "source": [
    "\n",
    "parameters = {'tfidf__norm': ['l1','l2'],\n",
    "              'clf__estimator__criterion': [\"gini\", \"entropy\"]\n",
    "    \n",
    "             }"
   ]
  },
  {
   "cell_type": "code",
   "execution_count": 40,
   "metadata": {},
   "outputs": [],
   "source": [
    "# working model\n",
    "# parameters = {'clf__estimator__n_estimators': [100, 200]}\n",
    "\n",
    "# rf_Grid.best_params_"
   ]
  },
  {
   "cell_type": "code",
   "execution_count": 41,
   "metadata": {},
   "outputs": [],
   "source": [
    "parameters = {'tfidf__norm': ['l1','l2'],\n",
    "              'clf__estimator__criterion': [\"gini\", \"entropy\"]\n",
    "    \n",
    "             }\n",
    "\n",
    "cv = GridSearchCV(pipeline, param_grid=parameters)"
   ]
  },
  {
   "cell_type": "code",
   "execution_count": 42,
   "metadata": {
    "scrolled": true
   },
   "outputs": [
    {
     "data": {
      "text/plain": [
       "GridSearchCV(estimator=Pipeline(steps=[('vect',\n",
       "                                        CountVectorizer(tokenizer=<function tokenize at 0x7f96da474a70>)),\n",
       "                                       ('tfidf', TfidfTransformer()),\n",
       "                                       ('clf',\n",
       "                                        MultiOutputClassifier(estimator=RandomForestClassifier(class_weight='balanced',\n",
       "                                                                                               n_jobs=-1,\n",
       "                                                                                               random_state=0)))]),\n",
       "             param_grid={'clf__estimator__criterion': ['gini', 'entropy'],\n",
       "                         'tfidf__norm': ['l1', 'l2']})"
      ]
     },
     "execution_count": 42,
     "metadata": {},
     "output_type": "execute_result"
    }
   ],
   "source": [
    "# nothing for 15min\n",
    "cv.fit(X_train, y_train)"
   ]
  },
  {
   "cell_type": "code",
   "execution_count": 44,
   "metadata": {},
   "outputs": [
    {
     "data": {
      "text/plain": [
       "{'clf__estimator__criterion': 'entropy', 'tfidf__norm': 'l2'}"
      ]
     },
     "execution_count": 44,
     "metadata": {},
     "output_type": "execute_result"
    }
   ],
   "source": [
    "cv.best_params_"
   ]
  },
  {
   "cell_type": "markdown",
   "metadata": {},
   "source": [
    "### 7. Test your model\n",
    "Show the accuracy, precision, and recall of the tuned model.  \n",
    "\n",
    "Since this project focuses on code quality, process, and  pipelines, there is no minimum performance metric needed to pass. However, make sure to fine tune your models for accuracy, precision and recall to make your project stand out - especially for your portfolio!"
   ]
  },
  {
   "cell_type": "code",
   "execution_count": 45,
   "metadata": {},
   "outputs": [],
   "source": [
    "y_pred = cv.predict(X_test)"
   ]
  },
  {
   "cell_type": "code",
   "execution_count": 46,
   "metadata": {},
   "outputs": [
    {
     "name": "stdout",
     "output_type": "stream",
     "text": [
      "                        precision    recall  f1-score   support\n",
      "\n",
      "               request       0.87      0.46      0.60      1095\n",
      "                 offer       0.00      0.00      0.00        30\n",
      "           aid_related       0.79      0.62      0.70      2725\n",
      "          medical_help       0.78      0.05      0.09       517\n",
      "      medical_products       0.81      0.04      0.07       339\n",
      "     search_and_rescue       0.00      0.00      0.00       186\n",
      "              security       0.00      0.00      0.00       141\n",
      "              military       0.00      0.00      0.00       208\n",
      "           child_alone       0.00      0.00      0.00         0\n",
      "                 water       0.94      0.15      0.27       413\n",
      "                  food       0.88      0.31      0.46       725\n",
      "               shelter       0.90      0.15      0.26       599\n",
      "              clothing       0.64      0.07      0.12       103\n",
      "                 money       0.75      0.02      0.04       143\n",
      "        missing_people       1.00      0.02      0.05        83\n",
      "              refugees       0.00      0.00      0.00       230\n",
      "                 death       0.93      0.04      0.08       295\n",
      "             other_aid       0.71      0.02      0.03       841\n",
      "infrastructure_related       0.50      0.00      0.01       450\n",
      "             transport       0.80      0.03      0.05       295\n",
      "             buildings       0.90      0.03      0.05       322\n",
      "           electricity       1.00      0.01      0.03       135\n",
      "                 tools       0.00      0.00      0.00        38\n",
      "             hospitals       0.00      0.00      0.00        75\n",
      "                 shops       0.00      0.00      0.00        39\n",
      "           aid_centers       0.00      0.00      0.00        82\n",
      "  other_infrastructure       0.25      0.00      0.01       301\n",
      "       weather_related       0.86      0.58      0.70      1852\n",
      "                floods       0.90      0.13      0.22       553\n",
      "                 storm       0.77      0.25      0.38       622\n",
      "                  fire       0.00      0.00      0.00        65\n",
      "            earthquake       0.94      0.49      0.64       611\n",
      "                  cold       0.50      0.01      0.01       134\n",
      "         other_weather       0.00      0.00      0.00       369\n",
      "         direct_report       0.85      0.38      0.52      1249\n",
      "\n",
      "             micro avg       0.84      0.30      0.44     15865\n",
      "             macro avg       0.52      0.11      0.15     15865\n",
      "          weighted avg       0.74      0.30      0.38     15865\n",
      "           samples avg       0.38      0.18      0.23     15865\n",
      "\n"
     ]
    },
    {
     "name": "stderr",
     "output_type": "stream",
     "text": [
      "/home/freemo/anaconda3/lib/python3.7/site-packages/sklearn/metrics/_classification.py:1221: UndefinedMetricWarning: Precision and F-score are ill-defined and being set to 0.0 in labels with no predicted samples. Use `zero_division` parameter to control this behavior.\n",
      "  _warn_prf(average, modifier, msg_start, len(result))\n",
      "/home/freemo/anaconda3/lib/python3.7/site-packages/sklearn/metrics/_classification.py:1221: UndefinedMetricWarning: Recall and F-score are ill-defined and being set to 0.0 in labels with no true samples. Use `zero_division` parameter to control this behavior.\n",
      "  _warn_prf(average, modifier, msg_start, len(result))\n",
      "/home/freemo/anaconda3/lib/python3.7/site-packages/sklearn/metrics/_classification.py:1221: UndefinedMetricWarning: Precision and F-score are ill-defined and being set to 0.0 in samples with no predicted labels. Use `zero_division` parameter to control this behavior.\n",
      "  _warn_prf(average, modifier, msg_start, len(result))\n",
      "/home/freemo/anaconda3/lib/python3.7/site-packages/sklearn/metrics/_classification.py:1221: UndefinedMetricWarning: Recall and F-score are ill-defined and being set to 0.0 in samples with no true labels. Use `zero_division` parameter to control this behavior.\n",
      "  _warn_prf(average, modifier, msg_start, len(result))\n"
     ]
    }
   ],
   "source": [
    "print(classification_report(y_test, y_pred, target_names=y.columns))"
   ]
  },
  {
   "cell_type": "markdown",
   "metadata": {},
   "source": [
    "### 8. Try improving your model further. Here are a few ideas:\n",
    "* try other machine learning algorithms\n",
    "* add other features besides the TF-IDF"
   ]
  },
  {
   "cell_type": "code",
   "execution_count": null,
   "metadata": {},
   "outputs": [],
   "source": []
  },
  {
   "cell_type": "markdown",
   "metadata": {},
   "source": [
    "### 9. Export your model as a pickle file"
   ]
  },
  {
   "cell_type": "code",
   "execution_count": null,
   "metadata": {},
   "outputs": [],
   "source": []
  },
  {
   "cell_type": "markdown",
   "metadata": {},
   "source": [
    "### 10. Use this notebook to complete `train.py`\n",
    "Use the template file attached in the Resources folder to write a script that runs the steps above to create a database and export a model based on a new dataset specified by the user."
   ]
  },
  {
   "cell_type": "code",
   "execution_count": null,
   "metadata": {},
   "outputs": [],
   "source": []
  }
 ],
 "metadata": {
  "kernelspec": {
   "display_name": "Python 3",
   "language": "python",
   "name": "python3"
  },
  "language_info": {
   "codemirror_mode": {
    "name": "ipython",
    "version": 3
   },
   "file_extension": ".py",
   "mimetype": "text/x-python",
   "name": "python",
   "nbconvert_exporter": "python",
   "pygments_lexer": "ipython3",
   "version": "3.7.9"
  }
 },
 "nbformat": 4,
 "nbformat_minor": 2
}
