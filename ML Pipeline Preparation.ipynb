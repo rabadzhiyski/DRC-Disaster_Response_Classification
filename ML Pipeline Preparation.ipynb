{
 "cells": [
  {
   "cell_type": "markdown",
   "metadata": {},
   "source": [
    "# ML Pipeline Preparation\n",
    "Follow the instructions below to help you create your ML pipeline.\n",
    "### 1. Import libraries and load data from database.\n",
    "- Import Python libraries\n",
    "- Load dataset from database with [`read_sql_table`](https://pandas.pydata.org/pandas-docs/stable/generated/pandas.read_sql_table.html)\n",
    "- Define feature and target variables X and Y"
   ]
  },
  {
   "cell_type": "code",
   "execution_count": 1,
   "metadata": {},
   "outputs": [
    {
     "name": "stderr",
     "output_type": "stream",
     "text": [
      "[nltk_data] Downloading package punkt to /home/freemo/nltk_data...\n",
      "[nltk_data]   Package punkt is already up-to-date!\n",
      "[nltk_data] Downloading package wordnet to /home/freemo/nltk_data...\n",
      "[nltk_data]   Package wordnet is already up-to-date!\n"
     ]
    }
   ],
   "source": [
    "# import libraries\n",
    "import re\n",
    "import numpy as np\n",
    "import pandas as pd\n",
    "from sqlalchemy import create_engine\n",
    "from nltk.tokenize import word_tokenize\n",
    "from nltk.stem import WordNetLemmatizer\n",
    "import nltk\n",
    "nltk.download(['punkt', 'wordnet'])\n",
    "\n",
    "from sklearn.model_selection import GridSearchCV\n",
    "from sklearn.pipeline import Pipeline, FeatureUnion\n",
    "from sklearn.multioutput import MultiOutputClassifier\n",
    "from sklearn.neighbors import KNeighborsClassifier\n",
    "from sklearn.ensemble import RandomForestClassifier\n",
    "from sklearn.model_selection import train_test_split\n",
    "from sklearn.metrics import multilabel_confusion_matrix\n",
    "from sklearn.base import BaseEstimator, TransformerMixin\n",
    "from sklearn.datasets import make_multilabel_classification\n",
    "from sklearn.feature_extraction.text import CountVectorizer, TfidfTransformer, TfidfVectorizer\n",
    "from sklearn.metrics import make_scorer, accuracy_score, f1_score, classification_report, confusion_matrix"
   ]
  },
  {
   "cell_type": "code",
   "execution_count": 2,
   "metadata": {},
   "outputs": [],
   "source": [
    "# load data\n",
    "engine = create_engine('sqlite:///DisasterResponse.db')\n",
    "df = pd.read_sql(\"Disaster_Data\", engine)\n",
    "X = df['message']\n",
    "#drop also \"related\" column as there were records with 3 choices\n",
    "y = df.drop(['id', 'message', 'original', 'genre', 'related'], axis = 1)\n",
    "categories = y.columns"
   ]
  },
  {
   "cell_type": "code",
   "execution_count": 3,
   "metadata": {},
   "outputs": [
    {
     "data": {
      "text/plain": [
       "35"
      ]
     },
     "execution_count": 3,
     "metadata": {},
     "output_type": "execute_result"
    }
   ],
   "source": [
    "categories.value_counts().sum()"
   ]
  },
  {
   "cell_type": "code",
   "execution_count": 4,
   "metadata": {},
   "outputs": [
    {
     "data": {
      "text/plain": [
       "(26216, 35)"
      ]
     },
     "execution_count": 4,
     "metadata": {},
     "output_type": "execute_result"
    }
   ],
   "source": [
    "# check the shape\n",
    "X.shape\n",
    "y.shape"
   ]
  },
  {
   "cell_type": "code",
   "execution_count": 5,
   "metadata": {},
   "outputs": [
    {
     "data": {
      "text/plain": [
       "0    Weather update - a cold front from Cuba that c...\n",
       "1              Is the Hurricane over or is it not over\n",
       "2                      Looking for someone but no name\n",
       "3    UN reports Leogane 80-90 destroyed. Only Hospi...\n",
       "4    says: west side of Haiti, rest of the country ...\n",
       "Name: message, dtype: object"
      ]
     },
     "execution_count": 5,
     "metadata": {},
     "output_type": "execute_result"
    }
   ],
   "source": [
    "X.head()"
   ]
  },
  {
   "cell_type": "markdown",
   "metadata": {},
   "source": [
    "Check randomly the two arrays"
   ]
  },
  {
   "cell_type": "markdown",
   "metadata": {},
   "source": [
    "### 2. Write a tokenization function to process your text data"
   ]
  },
  {
   "cell_type": "code",
   "execution_count": 6,
   "metadata": {},
   "outputs": [],
   "source": [
    "def tokenize(text):\n",
    "    \"\"\"Tokenize and clean text.\n",
    "    \n",
    "    Args: message text\n",
    "    \n",
    "    Returns: normalized tokens\n",
    "    \"\"\"\n",
    "    \n",
    "    # remove punctuation\n",
    "    text = re.sub(r'[^a-zA-Z0-9]', ' ',text)\n",
    "    \n",
    "    # tokenize text\n",
    "    tokens = word_tokenize(text)\n",
    "    \n",
    "    # initiate lemmatizer\n",
    "    lemmatizer = WordNetLemmatizer()\n",
    "    \n",
    "    # iterate through each token\n",
    "    clean_tokens = []\n",
    "    for tok in tokens:\n",
    "        \n",
    "        # lemmatize, normalize case, and remove leading/trailing white space\n",
    "        clean_tok = lemmatizer.lemmatize(tok).lower().strip()\n",
    "        clean_tokens.append(clean_tok)\n",
    "        \n",
    "    return clean_tokens"
   ]
  },
  {
   "cell_type": "code",
   "execution_count": 7,
   "metadata": {},
   "outputs": [
    {
     "name": "stdout",
     "output_type": "stream",
     "text": [
      "Weather update - a cold front from Cuba that could pass over Haiti\n",
      "['weather', 'update', 'a', 'cold', 'front', 'from', 'cuba', 'that', 'could', 'pas', 'over', 'haiti'] \n",
      "\n",
      "Is the Hurricane over or is it not over\n",
      "['is', 'the', 'hurricane', 'over', 'or', 'is', 'it', 'not', 'over'] \n",
      "\n",
      "Looking for someone but no name\n",
      "['looking', 'for', 'someone', 'but', 'no', 'name'] \n",
      "\n",
      "UN reports Leogane 80-90 destroyed. Only Hospital St. Croix functioning. Needs supplies desperately.\n",
      "['un', 'report', 'leogane', '80', '90', 'destroyed', 'only', 'hospital', 'st', 'croix', 'functioning', 'needs', 'supply', 'desperately'] \n",
      "\n",
      "says: west side of Haiti, rest of the country today and tonight\n",
      "['say', 'west', 'side', 'of', 'haiti', 'rest', 'of', 'the', 'country', 'today', 'and', 'tonight'] \n",
      "\n"
     ]
    }
   ],
   "source": [
    "# test function\n",
    "for message in X[:5]:\n",
    "    tokens = tokenize(message)\n",
    "    print(message)\n",
    "    print(tokens, '\\n')"
   ]
  },
  {
   "cell_type": "markdown",
   "metadata": {},
   "source": [
    "### 3. Build a machine learning pipeline\n",
    "This machine pipeline should take in the `message` column as input and output classification results on the other 36 categories in the dataset. You may find the [MultiOutputClassifier](http://scikit-learn.org/stable/modules/generated/sklearn.multioutput.MultiOutputClassifier.html) helpful for predicting multiple target variables."
   ]
  },
  {
   "cell_type": "markdown",
   "metadata": {},
   "source": [
    "https://www.analyticsvidhya.com/blog/2015/06/tuning-random-forest-model/\n",
    "\n",
    "https://medium.com/all-things-ai/in-depth-parameter-tuning-for-random-forest-d67bb7e920d"
   ]
  },
  {
   "cell_type": "code",
   "execution_count": 8,
   "metadata": {},
   "outputs": [],
   "source": [
    "# build the pipeline, parameters chosen after several attempts to maximize processing speed\n",
    "pipeline = Pipeline([\n",
    "    ('vect', CountVectorizer(tokenizer = tokenize)),\n",
    "    ('tfidf', TfidfTransformer()),\n",
    "    ('clf', MultiOutputClassifier(RandomForestClassifier(n_estimators=100, oob_score=True, \n",
    "                                                         n_jobs=-1,random_state=50, max_features=\"auto\", \n",
    "                                                         min_samples_leaf=50)))\n",
    "])"
   ]
  },
  {
   "cell_type": "code",
   "execution_count": null,
   "metadata": {},
   "outputs": [],
   "source": [
    "# RandomForestRegressor(n_estimator = 100, oob_score = TRUE, n_jobs = -1,random_state =50, \n",
    "# max_features = \"auto\", min_samples_leaf = 50)"
   ]
  },
  {
   "cell_type": "markdown",
   "metadata": {},
   "source": [
    "### 4. Train pipeline\n",
    "- Split data into train and test sets\n",
    "- Train pipeline"
   ]
  },
  {
   "cell_type": "code",
   "execution_count": null,
   "metadata": {},
   "outputs": [],
   "source": [
    "# stratify=y,test_size=0.25"
   ]
  },
  {
   "cell_type": "code",
   "execution_count": 9,
   "metadata": {},
   "outputs": [],
   "source": [
    "# split the data\n",
    "# X_train, X_test, y_train, y_test = train_test_split(X, y)\n",
    "X_train, X_test, y_train, y_test = train_test_split(X, y,test_size=0.3)"
   ]
  },
  {
   "cell_type": "code",
   "execution_count": 10,
   "metadata": {},
   "outputs": [
    {
     "data": {
      "text/plain": [
       "Pipeline(steps=[('vect',\n",
       "                 CountVectorizer(tokenizer=<function tokenize at 0x7f389e464170>)),\n",
       "                ('tfidf', TfidfTransformer()),\n",
       "                ('clf',\n",
       "                 MultiOutputClassifier(estimator=RandomForestClassifier(min_samples_leaf=50,\n",
       "                                                                        n_jobs=-1,\n",
       "                                                                        oob_score=True,\n",
       "                                                                        random_state=50)))])"
      ]
     },
     "execution_count": 10,
     "metadata": {},
     "output_type": "execute_result"
    }
   ],
   "source": [
    "# train classifier, around 8 mins to complete / it took just 3mins with the new settings\n",
    "pipeline.fit(X_train, y_train)"
   ]
  },
  {
   "cell_type": "markdown",
   "metadata": {},
   "source": [
    "### 5. Test your model\n",
    "Report the f1 score, precision and recall for each output category of the dataset. You can do this by iterating through the columns and calling sklearn's `classification_report` on each."
   ]
  },
  {
   "cell_type": "code",
   "execution_count": 11,
   "metadata": {},
   "outputs": [],
   "source": [
    "# predict on test data\n",
    "y_pred = pipeline.predict(X_test)"
   ]
  },
  {
   "cell_type": "code",
   "execution_count": 12,
   "metadata": {},
   "outputs": [
    {
     "name": "stdout",
     "output_type": "stream",
     "text": [
      "------------------------------------------------------\n",
      "\n",
      "FEATURE: request\n",
      "\n",
      "              precision    recall  f1-score   support\n",
      "\n",
      "           0       0.83      1.00      0.91      6549\n",
      "           1       0.00      0.00      0.00      1316\n",
      "\n",
      "    accuracy                           0.83      7865\n",
      "   macro avg       0.42      0.50      0.45      7865\n",
      "weighted avg       0.69      0.83      0.76      7865\n",
      "\n",
      "------------------------------------------------------\n",
      "\n",
      "FEATURE: offer\n",
      "\n",
      "              precision    recall  f1-score   support\n",
      "\n",
      "           0       0.99      1.00      1.00      7817\n",
      "           1       0.00      0.00      0.00        48\n",
      "\n",
      "    accuracy                           0.99      7865\n",
      "   macro avg       0.50      0.50      0.50      7865\n",
      "weighted avg       0.99      0.99      0.99      7865\n",
      "\n",
      "------------------------------------------------------\n",
      "\n",
      "FEATURE: aid_related\n",
      "\n",
      "              precision    recall  f1-score   support\n",
      "\n",
      "           0       0.63      0.99      0.77      4598\n",
      "           1       0.91      0.19      0.32      3267\n",
      "\n",
      "    accuracy                           0.66      7865\n",
      "   macro avg       0.77      0.59      0.54      7865\n",
      "weighted avg       0.75      0.66      0.58      7865\n",
      "\n",
      "------------------------------------------------------\n",
      "\n",
      "FEATURE: medical_help\n",
      "\n",
      "              precision    recall  f1-score   support\n",
      "\n",
      "           0       0.92      1.00      0.96      7249\n",
      "           1       0.00      0.00      0.00       616\n",
      "\n",
      "    accuracy                           0.92      7865\n",
      "   macro avg       0.46      0.50      0.48      7865\n",
      "weighted avg       0.85      0.92      0.88      7865\n",
      "\n",
      "------------------------------------------------------\n",
      "\n",
      "FEATURE: medical_products\n",
      "\n",
      "              precision    recall  f1-score   support\n",
      "\n",
      "           0       0.95      1.00      0.97      7475\n",
      "           1       0.00      0.00      0.00       390\n",
      "\n",
      "    accuracy                           0.95      7865\n",
      "   macro avg       0.48      0.50      0.49      7865\n",
      "weighted avg       0.90      0.95      0.93      7865\n",
      "\n",
      "------------------------------------------------------\n",
      "\n",
      "FEATURE: search_and_rescue\n",
      "\n",
      "              precision    recall  f1-score   support\n",
      "\n",
      "           0       0.97      1.00      0.99      7645\n",
      "           1       0.00      0.00      0.00       220\n",
      "\n",
      "    accuracy                           0.97      7865\n",
      "   macro avg       0.49      0.50      0.49      7865\n",
      "weighted avg       0.94      0.97      0.96      7865\n",
      "\n",
      "------------------------------------------------------\n",
      "\n",
      "FEATURE: security\n",
      "\n",
      "              precision    recall  f1-score   support\n",
      "\n",
      "           0       0.98      1.00      0.99      7720\n",
      "           1       0.00      0.00      0.00       145\n",
      "\n",
      "    accuracy                           0.98      7865\n",
      "   macro avg       0.49      0.50      0.50      7865\n",
      "weighted avg       0.96      0.98      0.97      7865\n",
      "\n",
      "------------------------------------------------------\n",
      "\n",
      "FEATURE: military\n",
      "\n"
     ]
    },
    {
     "name": "stderr",
     "output_type": "stream",
     "text": [
      "/home/freemo/anaconda3/lib/python3.7/site-packages/sklearn/metrics/_classification.py:1221: UndefinedMetricWarning: Precision and F-score are ill-defined and being set to 0.0 in labels with no predicted samples. Use `zero_division` parameter to control this behavior.\n",
      "  _warn_prf(average, modifier, msg_start, len(result))\n"
     ]
    },
    {
     "name": "stdout",
     "output_type": "stream",
     "text": [
      "              precision    recall  f1-score   support\n",
      "\n",
      "           0       0.97      1.00      0.98      7613\n",
      "           1       0.00      0.00      0.00       252\n",
      "\n",
      "    accuracy                           0.97      7865\n",
      "   macro avg       0.48      0.50      0.49      7865\n",
      "weighted avg       0.94      0.97      0.95      7865\n",
      "\n",
      "------------------------------------------------------\n",
      "\n",
      "FEATURE: child_alone\n",
      "\n",
      "              precision    recall  f1-score   support\n",
      "\n",
      "           0       1.00      1.00      1.00      7865\n",
      "\n",
      "    accuracy                           1.00      7865\n",
      "   macro avg       1.00      1.00      1.00      7865\n",
      "weighted avg       1.00      1.00      1.00      7865\n",
      "\n",
      "------------------------------------------------------\n",
      "\n",
      "FEATURE: water\n",
      "\n",
      "              precision    recall  f1-score   support\n",
      "\n",
      "           0       0.94      1.00      0.97      7363\n",
      "           1       0.00      0.00      0.00       502\n",
      "\n",
      "    accuracy                           0.94      7865\n",
      "   macro avg       0.47      0.50      0.48      7865\n",
      "weighted avg       0.88      0.94      0.91      7865\n",
      "\n",
      "------------------------------------------------------\n",
      "\n",
      "FEATURE: food\n",
      "\n",
      "              precision    recall  f1-score   support\n",
      "\n",
      "           0       0.89      1.00      0.94      7020\n",
      "           1       0.00      0.00      0.00       845\n",
      "\n",
      "    accuracy                           0.89      7865\n",
      "   macro avg       0.45      0.50      0.47      7865\n",
      "weighted avg       0.80      0.89      0.84      7865\n",
      "\n",
      "------------------------------------------------------\n",
      "\n",
      "FEATURE: shelter\n",
      "\n",
      "              precision    recall  f1-score   support\n",
      "\n",
      "           0       0.91      1.00      0.95      7161\n",
      "           1       0.00      0.00      0.00       704\n",
      "\n",
      "    accuracy                           0.91      7865\n",
      "   macro avg       0.46      0.50      0.48      7865\n",
      "weighted avg       0.83      0.91      0.87      7865\n",
      "\n",
      "------------------------------------------------------\n",
      "\n",
      "FEATURE: clothing\n",
      "\n",
      "              precision    recall  f1-score   support\n",
      "\n",
      "           0       0.99      1.00      0.99      7751\n",
      "           1       0.00      0.00      0.00       114\n",
      "\n",
      "    accuracy                           0.99      7865\n",
      "   macro avg       0.49      0.50      0.50      7865\n",
      "weighted avg       0.97      0.99      0.98      7865\n",
      "\n",
      "------------------------------------------------------\n",
      "\n",
      "FEATURE: money\n",
      "\n",
      "              precision    recall  f1-score   support\n",
      "\n",
      "           0       0.98      1.00      0.99      7681\n",
      "           1       0.00      0.00      0.00       184\n",
      "\n",
      "    accuracy                           0.98      7865\n",
      "   macro avg       0.49      0.50      0.49      7865\n",
      "weighted avg       0.95      0.98      0.97      7865\n",
      "\n",
      "------------------------------------------------------\n",
      "\n",
      "FEATURE: missing_people\n",
      "\n",
      "              precision    recall  f1-score   support\n",
      "\n",
      "           0       0.99      1.00      0.99      7775\n",
      "           1       0.00      0.00      0.00        90\n",
      "\n",
      "    accuracy                           0.99      7865\n",
      "   macro avg       0.49      0.50      0.50      7865\n",
      "weighted avg       0.98      0.99      0.98      7865\n",
      "\n",
      "------------------------------------------------------\n",
      "\n",
      "FEATURE: refugees\n",
      "\n",
      "              precision    recall  f1-score   support\n",
      "\n",
      "           0       0.97      1.00      0.98      7605\n",
      "           1       0.00      0.00      0.00       260\n",
      "\n",
      "    accuracy                           0.97      7865\n",
      "   macro avg       0.48      0.50      0.49      7865\n",
      "weighted avg       0.93      0.97      0.95      7865\n",
      "\n",
      "------------------------------------------------------\n",
      "\n",
      "FEATURE: death\n",
      "\n",
      "              precision    recall  f1-score   support\n",
      "\n",
      "           0       0.96      1.00      0.98      7529\n",
      "           1       0.00      0.00      0.00       336\n",
      "\n",
      "    accuracy                           0.96      7865\n",
      "   macro avg       0.48      0.50      0.49      7865\n",
      "weighted avg       0.92      0.96      0.94      7865\n",
      "\n",
      "------------------------------------------------------\n",
      "\n",
      "FEATURE: other_aid\n",
      "\n",
      "              precision    recall  f1-score   support\n",
      "\n",
      "           0       0.87      1.00      0.93      6834\n",
      "           1       0.00      0.00      0.00      1031\n",
      "\n",
      "    accuracy                           0.87      7865\n",
      "   macro avg       0.43      0.50      0.46      7865\n",
      "weighted avg       0.76      0.87      0.81      7865\n",
      "\n",
      "------------------------------------------------------\n",
      "\n",
      "FEATURE: infrastructure_related\n",
      "\n",
      "              precision    recall  f1-score   support\n",
      "\n",
      "           0       0.94      1.00      0.97      7375\n",
      "           1       0.00      0.00      0.00       490\n",
      "\n",
      "    accuracy                           0.94      7865\n",
      "   macro avg       0.47      0.50      0.48      7865\n",
      "weighted avg       0.88      0.94      0.91      7865\n",
      "\n",
      "------------------------------------------------------\n",
      "\n",
      "FEATURE: transport\n",
      "\n",
      "              precision    recall  f1-score   support\n",
      "\n",
      "           0       0.96      1.00      0.98      7518\n",
      "           1       0.00      0.00      0.00       347\n",
      "\n",
      "    accuracy                           0.96      7865\n",
      "   macro avg       0.48      0.50      0.49      7865\n",
      "weighted avg       0.91      0.96      0.93      7865\n",
      "\n",
      "------------------------------------------------------\n",
      "\n",
      "FEATURE: buildings\n",
      "\n",
      "              precision    recall  f1-score   support\n",
      "\n",
      "           0       0.95      1.00      0.98      7507\n",
      "           1       0.00      0.00      0.00       358\n",
      "\n",
      "    accuracy                           0.95      7865\n",
      "   macro avg       0.48      0.50      0.49      7865\n",
      "weighted avg       0.91      0.95      0.93      7865\n",
      "\n",
      "------------------------------------------------------\n",
      "\n",
      "FEATURE: electricity\n",
      "\n",
      "              precision    recall  f1-score   support\n",
      "\n",
      "           0       0.98      1.00      0.99      7712\n",
      "           1       0.00      0.00      0.00       153\n",
      "\n",
      "    accuracy                           0.98      7865\n",
      "   macro avg       0.49      0.50      0.50      7865\n",
      "weighted avg       0.96      0.98      0.97      7865\n",
      "\n",
      "------------------------------------------------------\n",
      "\n",
      "FEATURE: tools\n",
      "\n",
      "              precision    recall  f1-score   support\n",
      "\n",
      "           0       0.99      1.00      1.00      7823\n",
      "           1       0.00      0.00      0.00        42\n",
      "\n",
      "    accuracy                           0.99      7865\n",
      "   macro avg       0.50      0.50      0.50      7865\n",
      "weighted avg       0.99      0.99      0.99      7865\n",
      "\n",
      "------------------------------------------------------\n",
      "\n",
      "FEATURE: hospitals\n",
      "\n",
      "              precision    recall  f1-score   support\n",
      "\n",
      "           0       0.99      1.00      1.00      7788\n",
      "           1       0.00      0.00      0.00        77\n",
      "\n",
      "    accuracy                           0.99      7865\n",
      "   macro avg       0.50      0.50      0.50      7865\n",
      "weighted avg       0.98      0.99      0.99      7865\n",
      "\n",
      "------------------------------------------------------\n",
      "\n",
      "FEATURE: shops\n",
      "\n",
      "              precision    recall  f1-score   support\n",
      "\n",
      "           0       1.00      1.00      1.00      7841\n",
      "           1       0.00      0.00      0.00        24\n",
      "\n",
      "    accuracy                           1.00      7865\n",
      "   macro avg       0.50      0.50      0.50      7865\n",
      "weighted avg       0.99      1.00      1.00      7865\n",
      "\n",
      "------------------------------------------------------\n",
      "\n",
      "FEATURE: aid_centers\n",
      "\n",
      "              precision    recall  f1-score   support\n",
      "\n",
      "           0       0.99      1.00      0.99      7781\n",
      "           1       0.00      0.00      0.00        84\n",
      "\n",
      "    accuracy                           0.99      7865\n",
      "   macro avg       0.49      0.50      0.50      7865\n",
      "weighted avg       0.98      0.99      0.98      7865\n",
      "\n",
      "------------------------------------------------------\n",
      "\n",
      "FEATURE: other_infrastructure\n",
      "\n",
      "              precision    recall  f1-score   support\n",
      "\n",
      "           0       0.96      1.00      0.98      7518\n",
      "           1       0.00      0.00      0.00       347\n",
      "\n",
      "    accuracy                           0.96      7865\n",
      "   macro avg       0.48      0.50      0.49      7865\n",
      "weighted avg       0.91      0.96      0.93      7865\n",
      "\n",
      "------------------------------------------------------\n",
      "\n",
      "FEATURE: weather_related\n",
      "\n",
      "              precision    recall  f1-score   support\n",
      "\n",
      "           0       0.73      1.00      0.85      5737\n",
      "           1       0.93      0.03      0.05      2128\n",
      "\n",
      "    accuracy                           0.74      7865\n",
      "   macro avg       0.83      0.51      0.45      7865\n",
      "weighted avg       0.79      0.74      0.63      7865\n",
      "\n",
      "------------------------------------------------------\n",
      "\n",
      "FEATURE: floods\n",
      "\n",
      "              precision    recall  f1-score   support\n",
      "\n",
      "           0       0.92      1.00      0.96      7256\n",
      "           1       0.00      0.00      0.00       609\n",
      "\n",
      "    accuracy                           0.92      7865\n",
      "   macro avg       0.46      0.50      0.48      7865\n",
      "weighted avg       0.85      0.92      0.89      7865\n",
      "\n",
      "------------------------------------------------------\n",
      "\n",
      "FEATURE: storm\n",
      "\n",
      "              precision    recall  f1-score   support\n",
      "\n",
      "           0       0.91      1.00      0.95      7166\n",
      "           1       0.00      0.00      0.00       699\n",
      "\n",
      "    accuracy                           0.91      7865\n",
      "   macro avg       0.46      0.50      0.48      7865\n",
      "weighted avg       0.83      0.91      0.87      7865\n",
      "\n",
      "------------------------------------------------------\n",
      "\n",
      "FEATURE: fire\n",
      "\n",
      "              precision    recall  f1-score   support\n",
      "\n",
      "           0       0.99      1.00      0.99      7765\n",
      "           1       0.00      0.00      0.00       100\n",
      "\n",
      "    accuracy                           0.99      7865\n",
      "   macro avg       0.49      0.50      0.50      7865\n",
      "weighted avg       0.97      0.99      0.98      7865\n",
      "\n",
      "------------------------------------------------------\n",
      "\n",
      "FEATURE: earthquake\n",
      "\n",
      "              precision    recall  f1-score   support\n",
      "\n",
      "           0       0.91      1.00      0.95      7154\n",
      "           1       0.00      0.00      0.00       711\n",
      "\n",
      "    accuracy                           0.91      7865\n",
      "   macro avg       0.45      0.50      0.48      7865\n",
      "weighted avg       0.83      0.91      0.87      7865\n",
      "\n",
      "------------------------------------------------------\n",
      "\n",
      "FEATURE: cold\n",
      "\n",
      "              precision    recall  f1-score   support\n",
      "\n",
      "           0       0.98      1.00      0.99      7711\n",
      "           1       0.00      0.00      0.00       154\n",
      "\n",
      "    accuracy                           0.98      7865\n",
      "   macro avg       0.49      0.50      0.50      7865\n",
      "weighted avg       0.96      0.98      0.97      7865\n",
      "\n",
      "------------------------------------------------------\n",
      "\n",
      "FEATURE: other_weather\n",
      "\n"
     ]
    },
    {
     "name": "stdout",
     "output_type": "stream",
     "text": [
      "              precision    recall  f1-score   support\n",
      "\n",
      "           0       0.95      1.00      0.97      7438\n",
      "           1       0.00      0.00      0.00       427\n",
      "\n",
      "    accuracy                           0.95      7865\n",
      "   macro avg       0.47      0.50      0.49      7865\n",
      "weighted avg       0.89      0.95      0.92      7865\n",
      "\n",
      "------------------------------------------------------\n",
      "\n",
      "FEATURE: direct_report\n",
      "\n",
      "              precision    recall  f1-score   support\n",
      "\n",
      "           0       0.81      1.00      0.90      6373\n",
      "           1       0.00      0.00      0.00      1492\n",
      "\n",
      "    accuracy                           0.81      7865\n",
      "   macro avg       0.41      0.50      0.45      7865\n",
      "weighted avg       0.66      0.81      0.73      7865\n",
      "\n"
     ]
    }
   ],
   "source": [
    "y_pred_pd = pd.DataFrame(y_pred, columns = y_test.columns)\n",
    "for column in y_test.columns:\n",
    "    print('------------------------------------------------------\\n')\n",
    "    print('FEATURE: {}\\n'.format(column))\n",
    "    print(classification_report(y_test[column],y_pred_pd[column]))"
   ]
  },
  {
   "cell_type": "code",
   "execution_count": 34,
   "metadata": {
    "scrolled": true
   },
   "outputs": [],
   "source": [
    "# print(classification_report(y_test, y_pred, target_names=y.columns))\n",
    "# multilabel_confusion_matrix(y_test, y_pred)"
   ]
  },
  {
   "cell_type": "code",
   "execution_count": 13,
   "metadata": {},
   "outputs": [
    {
     "data": {
      "text/plain": [
       "Counter({'request': 1,\n",
       "         'offer': 1,\n",
       "         'aid_related': 1,\n",
       "         'medical_help': 1,\n",
       "         'medical_products': 1,\n",
       "         'search_and_rescue': 1,\n",
       "         'security': 1,\n",
       "         'military': 1,\n",
       "         'child_alone': 1,\n",
       "         'water': 1,\n",
       "         'food': 1,\n",
       "         'shelter': 1,\n",
       "         'clothing': 1,\n",
       "         'money': 1,\n",
       "         'missing_people': 1,\n",
       "         'refugees': 1,\n",
       "         'death': 1,\n",
       "         'other_aid': 1,\n",
       "         'infrastructure_related': 1,\n",
       "         'transport': 1,\n",
       "         'buildings': 1,\n",
       "         'electricity': 1,\n",
       "         'tools': 1,\n",
       "         'hospitals': 1,\n",
       "         'shops': 1,\n",
       "         'aid_centers': 1,\n",
       "         'other_infrastructure': 1,\n",
       "         'weather_related': 1,\n",
       "         'floods': 1,\n",
       "         'storm': 1,\n",
       "         'fire': 1,\n",
       "         'earthquake': 1,\n",
       "         'cold': 1,\n",
       "         'other_weather': 1,\n",
       "         'direct_report': 1})"
      ]
     },
     "execution_count": 13,
     "metadata": {},
     "output_type": "execute_result"
    }
   ],
   "source": [
    "from collections import Counter\n",
    "Counter(y_train)\n",
    "Counter(y_test)"
   ]
  },
  {
   "cell_type": "markdown",
   "metadata": {},
   "source": [
    "### 6. Improve your model\n",
    "Use grid search to find better parameters. "
   ]
  },
  {
   "cell_type": "code",
   "execution_count": 14,
   "metadata": {},
   "outputs": [
    {
     "data": {
      "text/plain": [
       "dict_keys(['memory', 'steps', 'verbose', 'vect', 'tfidf', 'clf', 'vect__analyzer', 'vect__binary', 'vect__decode_error', 'vect__dtype', 'vect__encoding', 'vect__input', 'vect__lowercase', 'vect__max_df', 'vect__max_features', 'vect__min_df', 'vect__ngram_range', 'vect__preprocessor', 'vect__stop_words', 'vect__strip_accents', 'vect__token_pattern', 'vect__tokenizer', 'vect__vocabulary', 'tfidf__norm', 'tfidf__smooth_idf', 'tfidf__sublinear_tf', 'tfidf__use_idf', 'clf__estimator__bootstrap', 'clf__estimator__ccp_alpha', 'clf__estimator__class_weight', 'clf__estimator__criterion', 'clf__estimator__max_depth', 'clf__estimator__max_features', 'clf__estimator__max_leaf_nodes', 'clf__estimator__max_samples', 'clf__estimator__min_impurity_decrease', 'clf__estimator__min_impurity_split', 'clf__estimator__min_samples_leaf', 'clf__estimator__min_samples_split', 'clf__estimator__min_weight_fraction_leaf', 'clf__estimator__n_estimators', 'clf__estimator__n_jobs', 'clf__estimator__oob_score', 'clf__estimator__random_state', 'clf__estimator__verbose', 'clf__estimator__warm_start', 'clf__estimator', 'clf__n_jobs'])"
      ]
     },
     "execution_count": 14,
     "metadata": {},
     "output_type": "execute_result"
    }
   ],
   "source": [
    "pipeline.get_params().keys()"
   ]
  },
  {
   "cell_type": "code",
   "execution_count": 15,
   "metadata": {
    "scrolled": true
   },
   "outputs": [
    {
     "data": {
      "text/plain": [
       "{'memory': None,\n",
       " 'steps': [('vect',\n",
       "   CountVectorizer(tokenizer=<function tokenize at 0x7f389e464170>)),\n",
       "  ('tfidf', TfidfTransformer()),\n",
       "  ('clf',\n",
       "   MultiOutputClassifier(estimator=RandomForestClassifier(min_samples_leaf=50,\n",
       "                                                          n_jobs=-1,\n",
       "                                                          oob_score=True,\n",
       "                                                          random_state=50)))],\n",
       " 'verbose': False,\n",
       " 'vect': CountVectorizer(tokenizer=<function tokenize at 0x7f389e464170>),\n",
       " 'tfidf': TfidfTransformer(),\n",
       " 'clf': MultiOutputClassifier(estimator=RandomForestClassifier(min_samples_leaf=50,\n",
       "                                                        n_jobs=-1,\n",
       "                                                        oob_score=True,\n",
       "                                                        random_state=50)),\n",
       " 'vect__analyzer': 'word',\n",
       " 'vect__binary': False,\n",
       " 'vect__decode_error': 'strict',\n",
       " 'vect__dtype': numpy.int64,\n",
       " 'vect__encoding': 'utf-8',\n",
       " 'vect__input': 'content',\n",
       " 'vect__lowercase': True,\n",
       " 'vect__max_df': 1.0,\n",
       " 'vect__max_features': None,\n",
       " 'vect__min_df': 1,\n",
       " 'vect__ngram_range': (1, 1),\n",
       " 'vect__preprocessor': None,\n",
       " 'vect__stop_words': None,\n",
       " 'vect__strip_accents': None,\n",
       " 'vect__token_pattern': '(?u)\\\\b\\\\w\\\\w+\\\\b',\n",
       " 'vect__tokenizer': <function __main__.tokenize(text)>,\n",
       " 'vect__vocabulary': None,\n",
       " 'tfidf__norm': 'l2',\n",
       " 'tfidf__smooth_idf': True,\n",
       " 'tfidf__sublinear_tf': False,\n",
       " 'tfidf__use_idf': True,\n",
       " 'clf__estimator__bootstrap': True,\n",
       " 'clf__estimator__ccp_alpha': 0.0,\n",
       " 'clf__estimator__class_weight': None,\n",
       " 'clf__estimator__criterion': 'gini',\n",
       " 'clf__estimator__max_depth': None,\n",
       " 'clf__estimator__max_features': 'auto',\n",
       " 'clf__estimator__max_leaf_nodes': None,\n",
       " 'clf__estimator__max_samples': None,\n",
       " 'clf__estimator__min_impurity_decrease': 0.0,\n",
       " 'clf__estimator__min_impurity_split': None,\n",
       " 'clf__estimator__min_samples_leaf': 50,\n",
       " 'clf__estimator__min_samples_split': 2,\n",
       " 'clf__estimator__min_weight_fraction_leaf': 0.0,\n",
       " 'clf__estimator__n_estimators': 100,\n",
       " 'clf__estimator__n_jobs': -1,\n",
       " 'clf__estimator__oob_score': True,\n",
       " 'clf__estimator__random_state': 50,\n",
       " 'clf__estimator__verbose': 0,\n",
       " 'clf__estimator__warm_start': False,\n",
       " 'clf__estimator': RandomForestClassifier(min_samples_leaf=50, n_jobs=-1, oob_score=True,\n",
       "                        random_state=50),\n",
       " 'clf__n_jobs': None}"
      ]
     },
     "execution_count": 15,
     "metadata": {},
     "output_type": "execute_result"
    }
   ],
   "source": [
    "# check all features\n",
    "pipeline.get_params()"
   ]
  },
  {
   "cell_type": "markdown",
   "metadata": {},
   "source": [
    "\n",
    "parameters = {'tfidf__norm': ['l1','l2'],\n",
    "              'clf__estimator__criterion': [\"gini\", \"entropy\"]\n",
    "    \n",
    "             }"
   ]
  },
  {
   "cell_type": "code",
   "execution_count": 16,
   "metadata": {},
   "outputs": [],
   "source": [
    "# working model\n",
    "# parameters = {'clf__estimator__n_estimators': [100, 200]}\n",
    "\n",
    "# rf_Grid.best_params_\n",
    "\n",
    "#parameters = {'tfidf__norm': ['l1','l2'],'clf__estimator__criterion': [\"gini\", \"entropy\"]}"
   ]
  },
  {
   "cell_type": "markdown",
   "metadata": {},
   "source": [
    "parameters = {\n",
    "        'features__text_pipeline__vect__ngram_range': ((1, 1), (1, 2)),\n",
    "        'features__text_pipeline__vect__max_df': (0.5, 0.75, 1.0),\n",
    "        'features__text_pipeline__vect__max_features': (None, 5000, 10000),\n",
    "        'features__text_pipeline__tfidf__use_idf': (True, False),\n",
    "        'clf__n_estimators': [50, 100, 200],\n",
    "        'clf__min_samples_split': [2, 3, 4],\n",
    "        'features__transformer_weights': (\n",
    "            {'text_pipeline': 1, 'starting_verb': 0.5},\n",
    "            {'text_pipeline': 0.5, 'starting_verb': 1},\n",
    "            {'text_pipeline': 0.8, 'starting_verb': 1},\n",
    "        )\n",
    "    }"
   ]
  },
  {
   "cell_type": "code",
   "execution_count": 19,
   "metadata": {},
   "outputs": [],
   "source": [
    "parameters = {'tfidf__norm': ['l1','l2'],\n",
    "              'clf__estimator__criterion': [\"gini\", \"entropy\"]\n",
    "    \n",
    "             }\n",
    "\n",
    "cv = GridSearchCV(pipeline, param_grid=parameters)"
   ]
  },
  {
   "cell_type": "code",
   "execution_count": 20,
   "metadata": {
    "scrolled": true
   },
   "outputs": [
    {
     "data": {
      "text/plain": [
       "GridSearchCV(estimator=Pipeline(steps=[('vect',\n",
       "                                        CountVectorizer(tokenizer=<function tokenize at 0x7f389e464170>)),\n",
       "                                       ('tfidf', TfidfTransformer()),\n",
       "                                       ('clf',\n",
       "                                        MultiOutputClassifier(estimator=RandomForestClassifier(min_samples_leaf=50,\n",
       "                                                                                               n_jobs=-1,\n",
       "                                                                                               oob_score=True,\n",
       "                                                                                               random_state=50)))]),\n",
       "             param_grid={'clf__estimator__criterion': ['gini', 'entropy'],\n",
       "                         'tfidf__norm': ['l1', 'l2']})"
      ]
     },
     "execution_count": 20,
     "metadata": {},
     "output_type": "execute_result"
    }
   ],
   "source": [
    "# nothing for 15min\n",
    "cv.fit(X_train, y_train)"
   ]
  },
  {
   "cell_type": "code",
   "execution_count": 21,
   "metadata": {},
   "outputs": [
    {
     "data": {
      "text/plain": [
       "{'clf__estimator__criterion': 'entropy', 'tfidf__norm': 'l2'}"
      ]
     },
     "execution_count": 21,
     "metadata": {},
     "output_type": "execute_result"
    }
   ],
   "source": [
    "# check the best parameters\n",
    "cv.best_params_"
   ]
  },
  {
   "cell_type": "markdown",
   "metadata": {},
   "source": [
    "### 7. Test your model\n",
    "Show the accuracy, precision, and recall of the tuned model.  \n",
    "\n",
    "Since this project focuses on code quality, process, and  pipelines, there is no minimum performance metric needed to pass. However, make sure to fine tune your models for accuracy, precision and recall to make your project stand out - especially for your portfolio!"
   ]
  },
  {
   "cell_type": "code",
   "execution_count": 22,
   "metadata": {},
   "outputs": [],
   "source": [
    "y_pred = cv.predict(X_test)"
   ]
  },
  {
   "cell_type": "code",
   "execution_count": 23,
   "metadata": {},
   "outputs": [
    {
     "name": "stdout",
     "output_type": "stream",
     "text": [
      "                        precision    recall  f1-score   support\n",
      "\n",
      "               request       0.00      0.00      0.00      1316\n",
      "                 offer       0.00      0.00      0.00        48\n",
      "           aid_related       0.91      0.18      0.30      3267\n",
      "          medical_help       0.00      0.00      0.00       616\n",
      "      medical_products       0.00      0.00      0.00       390\n",
      "     search_and_rescue       0.00      0.00      0.00       220\n",
      "              security       0.00      0.00      0.00       145\n",
      "              military       0.00      0.00      0.00       252\n",
      "           child_alone       0.00      0.00      0.00         0\n",
      "                 water       0.00      0.00      0.00       502\n",
      "                  food       0.00      0.00      0.00       845\n",
      "               shelter       0.00      0.00      0.00       704\n",
      "              clothing       0.00      0.00      0.00       114\n",
      "                 money       0.00      0.00      0.00       184\n",
      "        missing_people       0.00      0.00      0.00        90\n",
      "              refugees       0.00      0.00      0.00       260\n",
      "                 death       0.00      0.00      0.00       336\n",
      "             other_aid       0.00      0.00      0.00      1031\n",
      "infrastructure_related       0.00      0.00      0.00       490\n",
      "             transport       0.00      0.00      0.00       347\n",
      "             buildings       0.00      0.00      0.00       358\n",
      "           electricity       0.00      0.00      0.00       153\n",
      "                 tools       0.00      0.00      0.00        42\n",
      "             hospitals       0.00      0.00      0.00        77\n",
      "                 shops       0.00      0.00      0.00        24\n",
      "           aid_centers       0.00      0.00      0.00        84\n",
      "  other_infrastructure       0.00      0.00      0.00       347\n",
      "       weather_related       0.96      0.03      0.06      2128\n",
      "                floods       0.00      0.00      0.00       609\n",
      "                 storm       0.00      0.00      0.00       699\n",
      "                  fire       0.00      0.00      0.00       100\n",
      "            earthquake       0.00      0.00      0.00       711\n",
      "                  cold       0.00      0.00      0.00       154\n",
      "         other_weather       0.00      0.00      0.00       427\n",
      "         direct_report       0.00      0.00      0.00      1492\n",
      "\n",
      "             micro avg       0.91      0.04      0.07     18562\n",
      "             macro avg       0.05      0.01      0.01     18562\n",
      "          weighted avg       0.27      0.04      0.06     18562\n",
      "           samples avg       0.08      0.02      0.03     18562\n",
      "\n"
     ]
    },
    {
     "name": "stderr",
     "output_type": "stream",
     "text": [
      "/home/freemo/anaconda3/lib/python3.7/site-packages/sklearn/metrics/_classification.py:1221: UndefinedMetricWarning: Precision and F-score are ill-defined and being set to 0.0 in labels with no predicted samples. Use `zero_division` parameter to control this behavior.\n",
      "  _warn_prf(average, modifier, msg_start, len(result))\n",
      "/home/freemo/anaconda3/lib/python3.7/site-packages/sklearn/metrics/_classification.py:1221: UndefinedMetricWarning: Recall and F-score are ill-defined and being set to 0.0 in labels with no true samples. Use `zero_division` parameter to control this behavior.\n",
      "  _warn_prf(average, modifier, msg_start, len(result))\n",
      "/home/freemo/anaconda3/lib/python3.7/site-packages/sklearn/metrics/_classification.py:1221: UndefinedMetricWarning: Precision and F-score are ill-defined and being set to 0.0 in samples with no predicted labels. Use `zero_division` parameter to control this behavior.\n",
      "  _warn_prf(average, modifier, msg_start, len(result))\n",
      "/home/freemo/anaconda3/lib/python3.7/site-packages/sklearn/metrics/_classification.py:1221: UndefinedMetricWarning: Recall and F-score are ill-defined and being set to 0.0 in samples with no true labels. Use `zero_division` parameter to control this behavior.\n",
      "  _warn_prf(average, modifier, msg_start, len(result))\n"
     ]
    }
   ],
   "source": [
    "print(classification_report(y_test, y_pred, target_names=y.columns))"
   ]
  },
  {
   "cell_type": "markdown",
   "metadata": {},
   "source": [
    "### 8. Try improving your model further. Here are a few ideas:\n",
    "* try other machine learning algorithms\n",
    "* add other features besides the TF-IDF"
   ]
  },
  {
   "cell_type": "code",
   "execution_count": null,
   "metadata": {},
   "outputs": [],
   "source": [
    "# skipped that, it took too much time to train new models"
   ]
  },
  {
   "cell_type": "markdown",
   "metadata": {},
   "source": [
    "### 9. Export your model as a pickle file"
   ]
  },
  {
   "cell_type": "code",
   "execution_count": 24,
   "metadata": {},
   "outputs": [],
   "source": [
    "import pickle\n",
    "pickle.dump(pipeline, open('classifier.pkl','wb'))"
   ]
  },
  {
   "cell_type": "markdown",
   "metadata": {},
   "source": [
    "### 10. Use this notebook to complete `train.py`\n",
    "Use the template file attached in the Resources folder to write a script that runs the steps above to create a database and export a model based on a new dataset specified by the user."
   ]
  },
  {
   "cell_type": "code",
   "execution_count": null,
   "metadata": {},
   "outputs": [],
   "source": []
  }
 ],
 "metadata": {
  "kernelspec": {
   "display_name": "Python 3",
   "language": "python",
   "name": "python3"
  },
  "language_info": {
   "codemirror_mode": {
    "name": "ipython",
    "version": 3
   },
   "file_extension": ".py",
   "mimetype": "text/x-python",
   "name": "python",
   "nbconvert_exporter": "python",
   "pygments_lexer": "ipython3",
   "version": "3.7.9"
  }
 },
 "nbformat": 4,
 "nbformat_minor": 2
}
